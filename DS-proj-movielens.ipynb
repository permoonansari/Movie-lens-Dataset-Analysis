{
 "cells": [
  {
   "cell_type": "markdown",
   "metadata": {},
   "source": [
    "#### About the dataset\n"
   ]
  },
  {
   "cell_type": "code",
   "execution_count": 1,
   "metadata": {
    "collapsed": true
   },
   "outputs": [],
   "source": [
    "import pandas as pd\n",
    "import numpy as np\n",
    "\n",
    "import time\n",
    "\n",
    "# import plotting libraries\n",
    "import matplotlib\n",
    "import matplotlib.pyplot as plt\n",
    "from pandas.plotting import scatter_matrix\n",
    "%matplotlib inline \n",
    "\n",
    "import seaborn as sns\n",
    "sns.set(style=\"white\", color_codes=True)\n",
    "sns.set(font_scale=1.5)"
   ]
  },
  {
   "cell_type": "markdown",
   "metadata": {
    "collapsed": true
   },
   "source": [
    "#### Data acquisition of the movielens dataset\n",
    "- users dataset\n",
    "- rating dataset\n",
    "- movies dataset\n",
    "\n",
    "- __MOVIES FILE DESCRIPTION__\n",
    "\n",
    "Movie information is in the file \"movies.dat\" and is in the following\n",
    "format:\n",
    "\n",
    "MovieID::Title::Genres\n",
    "\n",
    "- Titles are identical to titles provided by the IMDB (including\n",
    "year of release)\n",
    "- Genres are pipe-separated and are selected from the following genres:\n",
    "\n",
    "\t* Action\n",
    "\t* Adventure\n",
    "\t* Animation\n",
    "\t* Children's\n",
    "\t* Comedy\n",
    "\t* Crime\n",
    "\t* Documentary\n",
    "\t* Drama\n",
    "\t* Fantasy\n",
    "\t* Film-Noir\n",
    "\t* Horror\n",
    "\t* Musical\n",
    "\t* Mystery\n",
    "\t* Romance\n",
    "\t* Sci-Fi\n",
    "\t* Thriller\n",
    "\t* War\n",
    "\t* Western\n",
    "\n",
    "- Some MovieIDs do not correspond to a movie due to accidental duplicate\n",
    "entries and/or test entries\n",
    "- Movies are mostly entered by hand, so errors and inconsistencies may exist"
   ]
  },
  {
   "cell_type": "markdown",
   "metadata": {},
   "source": [
    "- __USERS FILE DESCRIPTION__\n",
    "\n",
    "User information is in the file \"users.dat\" and is in the following\n",
    "format:\n",
    "\n",
    "UserID::Gender::Age::Occupation::Zip-code\n",
    "\n",
    "All demographic information is provided voluntarily by the users and is\n",
    "not checked for accuracy.  Only users who have provided some demographic\n",
    "information are included in this data set.\n",
    "\n",
    "- Gender is denoted by a \"M\" for male and \"F\" for female\n",
    "- Age is chosen from the following ranges:\n",
    "\n",
    "\t*  1:  \"Under 18\"\n",
    "\t* 18:  \"18-24\"\n",
    "\t* 25:  \"25-34\"\n",
    "\t* 35:  \"35-44\"\n",
    "\t* 45:  \"45-49\"\n",
    "\t* 50:  \"50-55\"\n",
    "\t* 56:  \"56+\"\n",
    "\n",
    "- Occupation is chosen from the following choices:\n",
    "\n",
    "\t*  0:  \"other\" or not specified\n",
    "\t*  1:  \"academic/educator\"\n",
    "\t*  2:  \"artist\"\n",
    "\t*  3:  \"clerical/admin\"\n",
    "\t*  4:  \"college/grad student\"\n",
    "\t*  5:  \"customer service\"\n",
    "\t*  6:  \"doctor/health care\"\n",
    "\t*  7:  \"executive/managerial\"\n",
    "\t*  8:  \"farmer\"\n",
    "\t*  9:  \"homemaker\"\n",
    "\t* 10:  \"K-12 student\"\n",
    "\t* 11:  \"lawyer\"\n",
    "\t* 12:  \"programmer\"\n",
    "\t* 13:  \"retired\"\n",
    "\t* 14:  \"sales/marketing\"\n",
    "\t* 15:  \"scientist\"\n",
    "\t* 16:  \"self-employed\"\n",
    "\t* 17:  \"technician/engineer\"\n",
    "\t* 18:  \"tradesman/craftsman\"\n",
    "\t* 19:  \"unemployed\"\n",
    "\t* 20:  \"writer\"\n",
    "\n",
    "\n",
    "- __RATINGS FILE DESCRIPTION__\n",
    "\n",
    "\n",
    "All ratings are contained in the file \"ratings.dat\" and are in the\n",
    "following format:\n",
    "\n",
    "UserID::MovieID::Rating::Timestamp\n",
    "\n",
    "- UserIDs range between 1 and 6040 \n",
    "- MovieIDs range between 1 and 3952\n",
    "- Ratings are made on a 5-star scale (whole-star ratings only)\n",
    "- Timestamp is represented in seconds since the epoch as returned by time(2)\n",
    "- Each user has at least 20 ratings"
   ]
  },
  {
   "cell_type": "code",
   "execution_count": 2,
   "metadata": {
    "collapsed": true
   },
   "outputs": [],
   "source": [
    "location_movies  = r\"E:\\MYLEARN\\2-ANALYTICS-DataScience\\PROJECTS\\DS-Project4_Movielens\\movies.dat\"\n",
    "location_users   = r\"E:\\MYLEARN\\2-ANALYTICS-DataScience\\PROJECTS\\DS-Project4_Movielens\\users.dat\"\n",
    "location_ratings = r\"E:\\MYLEARN\\2-ANALYTICS-DataScience\\PROJECTS\\DS-Project4_Movielens\\ratings.dat\""
   ]
  },
  {
   "cell_type": "code",
   "execution_count": 3,
   "metadata": {
    "collapsed": true
   },
   "outputs": [],
   "source": [
    "col_movies  = ['movieId', \"title\",  'genres']\n",
    "col_users   = ['userId',  'Gender', 'Age', 'Occupation', 'Zip-code']\n",
    "col_ratings = ['userId',  'movieId','rating', 'timestamp']"
   ]
  },
  {
   "cell_type": "code",
   "execution_count": 1,
   "metadata": {
    "collapsed": true
   },
   "outputs": [
    {
     "ename": "NameError",
     "evalue": "name 'pd' is not defined",
     "output_type": "error",
     "traceback": [
      "\u001b[1;31m---------------------------------------------------------------------------\u001b[0m",
      "\u001b[1;31mNameError\u001b[0m                                 Traceback (most recent call last)",
      "\u001b[1;32m<ipython-input-1-caa46a7fc220>\u001b[0m in \u001b[0;36m<module>\u001b[1;34m\u001b[0m\n\u001b[1;32m----> 1\u001b[1;33m \u001b[0mdf_movies\u001b[0m  \u001b[1;33m=\u001b[0m \u001b[0mpd\u001b[0m\u001b[1;33m.\u001b[0m\u001b[0mread_csv\u001b[0m\u001b[1;33m(\u001b[0m\u001b[0mlocation_movies\u001b[0m\u001b[1;33m,\u001b[0m \u001b[0msep\u001b[0m\u001b[1;33m=\u001b[0m\u001b[1;34m\"::\"\u001b[0m\u001b[1;33m,\u001b[0m \u001b[0mengine\u001b[0m\u001b[1;33m=\u001b[0m\u001b[1;34m'python'\u001b[0m\u001b[1;33m,\u001b[0m \u001b[0mheader\u001b[0m\u001b[1;33m=\u001b[0m\u001b[1;32mNone\u001b[0m\u001b[1;33m,\u001b[0m \u001b[0mnames\u001b[0m\u001b[1;33m=\u001b[0m\u001b[0mcol_movies\u001b[0m\u001b[1;33m)\u001b[0m\u001b[1;33m\u001b[0m\u001b[1;33m\u001b[0m\u001b[0m\n\u001b[0m\u001b[0;32m      2\u001b[0m \u001b[0mdf_users\u001b[0m   \u001b[1;33m=\u001b[0m \u001b[0mpd\u001b[0m\u001b[1;33m.\u001b[0m\u001b[0mread_csv\u001b[0m\u001b[1;33m(\u001b[0m\u001b[0mlocation_users\u001b[0m\u001b[1;33m,\u001b[0m \u001b[0msep\u001b[0m\u001b[1;33m=\u001b[0m\u001b[1;34m\"::\"\u001b[0m\u001b[1;33m,\u001b[0m \u001b[0mengine\u001b[0m\u001b[1;33m=\u001b[0m\u001b[1;34m'python'\u001b[0m\u001b[1;33m,\u001b[0m \u001b[0mheader\u001b[0m\u001b[1;33m=\u001b[0m\u001b[1;32mNone\u001b[0m\u001b[1;33m,\u001b[0m \u001b[0mnames\u001b[0m\u001b[1;33m=\u001b[0m\u001b[0mcol_users\u001b[0m\u001b[1;33m)\u001b[0m\u001b[1;33m\u001b[0m\u001b[1;33m\u001b[0m\u001b[0m\n\u001b[0;32m      3\u001b[0m \u001b[0mdf_ratings\u001b[0m \u001b[1;33m=\u001b[0m \u001b[0mpd\u001b[0m\u001b[1;33m.\u001b[0m\u001b[0mread_csv\u001b[0m\u001b[1;33m(\u001b[0m\u001b[0mlocation_ratings\u001b[0m\u001b[1;33m,\u001b[0m \u001b[0msep\u001b[0m\u001b[1;33m=\u001b[0m\u001b[1;34m\"::\"\u001b[0m\u001b[1;33m,\u001b[0m \u001b[0mengine\u001b[0m\u001b[1;33m=\u001b[0m\u001b[1;34m'python'\u001b[0m\u001b[1;33m,\u001b[0m \u001b[0mheader\u001b[0m\u001b[1;33m=\u001b[0m\u001b[1;32mNone\u001b[0m\u001b[1;33m,\u001b[0m \u001b[0mnames\u001b[0m\u001b[1;33m=\u001b[0m\u001b[0mcol_ratings\u001b[0m\u001b[1;33m)\u001b[0m\u001b[1;33m\u001b[0m\u001b[1;33m\u001b[0m\u001b[0m\n",
      "\u001b[1;31mNameError\u001b[0m: name 'pd' is not defined"
     ]
    }
   ],
   "source": [
    "df_movies  = pd.read_csv(location_movies, sep=\"::\", engine='python', header=None, names=col_movies)\n",
    "df_users   = pd.read_csv(location_users, sep=\"::\", engine='python', header=None, names=col_users)\n",
    "df_ratings = pd.read_csv(location_ratings, sep=\"::\", engine='python', header=None, names=col_ratings)"
   ]
  },
  {
   "cell_type": "code",
   "execution_count": 5,
   "metadata": {},
   "outputs": [
    {
     "name": "stdout",
     "output_type": "stream",
     "text": [
      "Number of rows in movies df  :  (3883, 3)\n",
      "Number of rows in users  df  :  (6040, 5)\n",
      "Number of rows in ratings df :  (1000209, 4)\n"
     ]
    }
   ],
   "source": [
    "print('Number of rows in movies df  : ', df_movies.shape)\n",
    "print('Number of rows in users  df  : ', df_users.shape)\n",
    "print('Number of rows in ratings df : ', df_ratings.shape)"
   ]
  },
  {
   "cell_type": "code",
   "execution_count": 6,
   "metadata": {},
   "outputs": [
    {
     "data": {
      "text/html": [
       "<div>\n",
       "<style>\n",
       "    .dataframe thead tr:only-child th {\n",
       "        text-align: right;\n",
       "    }\n",
       "\n",
       "    .dataframe thead th {\n",
       "        text-align: left;\n",
       "    }\n",
       "\n",
       "    .dataframe tbody tr th {\n",
       "        vertical-align: top;\n",
       "    }\n",
       "</style>\n",
       "<table border=\"1\" class=\"dataframe\">\n",
       "  <thead>\n",
       "    <tr style=\"text-align: right;\">\n",
       "      <th></th>\n",
       "      <th>movieId</th>\n",
       "      <th>title</th>\n",
       "      <th>genres</th>\n",
       "    </tr>\n",
       "  </thead>\n",
       "  <tbody>\n",
       "    <tr>\n",
       "      <th>0</th>\n",
       "      <td>1</td>\n",
       "      <td>Toy Story (1995)</td>\n",
       "      <td>Animation|Children's|Comedy</td>\n",
       "    </tr>\n",
       "    <tr>\n",
       "      <th>1</th>\n",
       "      <td>2</td>\n",
       "      <td>Jumanji (1995)</td>\n",
       "      <td>Adventure|Children's|Fantasy</td>\n",
       "    </tr>\n",
       "    <tr>\n",
       "      <th>2</th>\n",
       "      <td>3</td>\n",
       "      <td>Grumpier Old Men (1995)</td>\n",
       "      <td>Comedy|Romance</td>\n",
       "    </tr>\n",
       "    <tr>\n",
       "      <th>3</th>\n",
       "      <td>4</td>\n",
       "      <td>Waiting to Exhale (1995)</td>\n",
       "      <td>Comedy|Drama</td>\n",
       "    </tr>\n",
       "    <tr>\n",
       "      <th>4</th>\n",
       "      <td>5</td>\n",
       "      <td>Father of the Bride Part II (1995)</td>\n",
       "      <td>Comedy</td>\n",
       "    </tr>\n",
       "  </tbody>\n",
       "</table>\n",
       "</div>"
      ],
      "text/plain": [
       "   movieId                               title                        genres\n",
       "0        1                    Toy Story (1995)   Animation|Children's|Comedy\n",
       "1        2                      Jumanji (1995)  Adventure|Children's|Fantasy\n",
       "2        3             Grumpier Old Men (1995)                Comedy|Romance\n",
       "3        4            Waiting to Exhale (1995)                  Comedy|Drama\n",
       "4        5  Father of the Bride Part II (1995)                        Comedy"
      ]
     },
     "execution_count": 6,
     "metadata": {},
     "output_type": "execute_result"
    }
   ],
   "source": [
    "# first 5 movies rows\n",
    "df_movies.head(5)"
   ]
  },
  {
   "cell_type": "code",
   "execution_count": 7,
   "metadata": {},
   "outputs": [
    {
     "data": {
      "text/html": [
       "<div>\n",
       "<style>\n",
       "    .dataframe thead tr:only-child th {\n",
       "        text-align: right;\n",
       "    }\n",
       "\n",
       "    .dataframe thead th {\n",
       "        text-align: left;\n",
       "    }\n",
       "\n",
       "    .dataframe tbody tr th {\n",
       "        vertical-align: top;\n",
       "    }\n",
       "</style>\n",
       "<table border=\"1\" class=\"dataframe\">\n",
       "  <thead>\n",
       "    <tr style=\"text-align: right;\">\n",
       "      <th></th>\n",
       "      <th>userId</th>\n",
       "      <th>Gender</th>\n",
       "      <th>Age</th>\n",
       "      <th>Occupation</th>\n",
       "      <th>Zip-code</th>\n",
       "    </tr>\n",
       "  </thead>\n",
       "  <tbody>\n",
       "    <tr>\n",
       "      <th>0</th>\n",
       "      <td>1</td>\n",
       "      <td>F</td>\n",
       "      <td>1</td>\n",
       "      <td>10</td>\n",
       "      <td>48067</td>\n",
       "    </tr>\n",
       "    <tr>\n",
       "      <th>1</th>\n",
       "      <td>2</td>\n",
       "      <td>M</td>\n",
       "      <td>56</td>\n",
       "      <td>16</td>\n",
       "      <td>70072</td>\n",
       "    </tr>\n",
       "    <tr>\n",
       "      <th>2</th>\n",
       "      <td>3</td>\n",
       "      <td>M</td>\n",
       "      <td>25</td>\n",
       "      <td>15</td>\n",
       "      <td>55117</td>\n",
       "    </tr>\n",
       "    <tr>\n",
       "      <th>3</th>\n",
       "      <td>4</td>\n",
       "      <td>M</td>\n",
       "      <td>45</td>\n",
       "      <td>7</td>\n",
       "      <td>02460</td>\n",
       "    </tr>\n",
       "    <tr>\n",
       "      <th>4</th>\n",
       "      <td>5</td>\n",
       "      <td>M</td>\n",
       "      <td>25</td>\n",
       "      <td>20</td>\n",
       "      <td>55455</td>\n",
       "    </tr>\n",
       "  </tbody>\n",
       "</table>\n",
       "</div>"
      ],
      "text/plain": [
       "   userId Gender  Age  Occupation Zip-code\n",
       "0       1      F    1          10    48067\n",
       "1       2      M   56          16    70072\n",
       "2       3      M   25          15    55117\n",
       "3       4      M   45           7    02460\n",
       "4       5      M   25          20    55455"
      ]
     },
     "execution_count": 7,
     "metadata": {},
     "output_type": "execute_result"
    }
   ],
   "source": [
    "# first 5 users rows\n",
    "df_users.head(5)"
   ]
  },
  {
   "cell_type": "code",
   "execution_count": 8,
   "metadata": {},
   "outputs": [
    {
     "data": {
      "text/html": [
       "<div>\n",
       "<style>\n",
       "    .dataframe thead tr:only-child th {\n",
       "        text-align: right;\n",
       "    }\n",
       "\n",
       "    .dataframe thead th {\n",
       "        text-align: left;\n",
       "    }\n",
       "\n",
       "    .dataframe tbody tr th {\n",
       "        vertical-align: top;\n",
       "    }\n",
       "</style>\n",
       "<table border=\"1\" class=\"dataframe\">\n",
       "  <thead>\n",
       "    <tr style=\"text-align: right;\">\n",
       "      <th></th>\n",
       "      <th>userId</th>\n",
       "      <th>movieId</th>\n",
       "      <th>rating</th>\n",
       "      <th>timestamp</th>\n",
       "    </tr>\n",
       "  </thead>\n",
       "  <tbody>\n",
       "    <tr>\n",
       "      <th>0</th>\n",
       "      <td>1</td>\n",
       "      <td>1193</td>\n",
       "      <td>5</td>\n",
       "      <td>978300760</td>\n",
       "    </tr>\n",
       "    <tr>\n",
       "      <th>1</th>\n",
       "      <td>1</td>\n",
       "      <td>661</td>\n",
       "      <td>3</td>\n",
       "      <td>978302109</td>\n",
       "    </tr>\n",
       "    <tr>\n",
       "      <th>2</th>\n",
       "      <td>1</td>\n",
       "      <td>914</td>\n",
       "      <td>3</td>\n",
       "      <td>978301968</td>\n",
       "    </tr>\n",
       "  </tbody>\n",
       "</table>\n",
       "</div>"
      ],
      "text/plain": [
       "   userId  movieId  rating  timestamp\n",
       "0       1     1193       5  978300760\n",
       "1       1      661       3  978302109\n",
       "2       1      914       3  978301968"
      ]
     },
     "execution_count": 8,
     "metadata": {},
     "output_type": "execute_result"
    }
   ],
   "source": [
    "# first 5 ratings rows\n",
    "df_ratings.head(3)"
   ]
  },
  {
   "cell_type": "markdown",
   "metadata": {},
   "source": [
    "#### Perform the Exploratory Data Analysis (EDA) for the users dataset\n",
    "\n",
    "- Visualize user age distribution\n",
    "- Visualize overall rating by users\n",
    "- Find and visualize the user rating of the movie “Toy Story”\n",
    "- Find and visualize the viewership of the movie “Toy Story” by age group\n",
    "- Find and visualize the top 25 movies by viewership rating\n",
    "- Find the rating for a particular user of user id = 2696\n",
    "- Visualize the rating data by user of user id = 2696\n"
   ]
  },
  {
   "cell_type": "code",
   "execution_count": 9,
   "metadata": {},
   "outputs": [
    {
     "data": {
      "text/plain": [
       "movieId    0\n",
       "title      0\n",
       "genres     0\n",
       "dtype: int64"
      ]
     },
     "execution_count": 9,
     "metadata": {},
     "output_type": "execute_result"
    }
   ],
   "source": [
    "# no null instances\n",
    "df_movies.isnull().sum()"
   ]
  },
  {
   "cell_type": "code",
   "execution_count": 10,
   "metadata": {},
   "outputs": [
    {
     "data": {
      "text/plain": [
       "userId        0\n",
       "Gender        0\n",
       "Age           0\n",
       "Occupation    0\n",
       "Zip-code      0\n",
       "dtype: int64"
      ]
     },
     "execution_count": 10,
     "metadata": {},
     "output_type": "execute_result"
    }
   ],
   "source": [
    "# no null instances\n",
    "df_users.isnull().sum()"
   ]
  },
  {
   "cell_type": "code",
   "execution_count": 11,
   "metadata": {},
   "outputs": [
    {
     "data": {
      "text/plain": [
       "userId       0\n",
       "movieId      0\n",
       "rating       0\n",
       "timestamp    0\n",
       "dtype: int64"
      ]
     },
     "execution_count": 11,
     "metadata": {},
     "output_type": "execute_result"
    }
   ],
   "source": [
    "# no null instances\n",
    "df_ratings.isnull().sum()"
   ]
  },
  {
   "cell_type": "markdown",
   "metadata": {},
   "source": [
    "#### create one merged dataframe\n",
    "\n",
    "common column : movieId"
   ]
  },
  {
   "cell_type": "code",
   "execution_count": 12,
   "metadata": {},
   "outputs": [
    {
     "data": {
      "text/html": [
       "<div>\n",
       "<style>\n",
       "    .dataframe thead tr:only-child th {\n",
       "        text-align: right;\n",
       "    }\n",
       "\n",
       "    .dataframe thead th {\n",
       "        text-align: left;\n",
       "    }\n",
       "\n",
       "    .dataframe tbody tr th {\n",
       "        vertical-align: top;\n",
       "    }\n",
       "</style>\n",
       "<table border=\"1\" class=\"dataframe\">\n",
       "  <thead>\n",
       "    <tr style=\"text-align: right;\">\n",
       "      <th></th>\n",
       "      <th>movieId</th>\n",
       "      <th>title</th>\n",
       "      <th>genres</th>\n",
       "      <th>userId</th>\n",
       "      <th>rating</th>\n",
       "      <th>timestamp</th>\n",
       "    </tr>\n",
       "  </thead>\n",
       "  <tbody>\n",
       "    <tr>\n",
       "      <th>0</th>\n",
       "      <td>1</td>\n",
       "      <td>Toy Story (1995)</td>\n",
       "      <td>Animation|Children's|Comedy</td>\n",
       "      <td>1</td>\n",
       "      <td>5</td>\n",
       "      <td>978824268</td>\n",
       "    </tr>\n",
       "    <tr>\n",
       "      <th>1</th>\n",
       "      <td>1</td>\n",
       "      <td>Toy Story (1995)</td>\n",
       "      <td>Animation|Children's|Comedy</td>\n",
       "      <td>6</td>\n",
       "      <td>4</td>\n",
       "      <td>978237008</td>\n",
       "    </tr>\n",
       "    <tr>\n",
       "      <th>2</th>\n",
       "      <td>1</td>\n",
       "      <td>Toy Story (1995)</td>\n",
       "      <td>Animation|Children's|Comedy</td>\n",
       "      <td>8</td>\n",
       "      <td>4</td>\n",
       "      <td>978233496</td>\n",
       "    </tr>\n",
       "  </tbody>\n",
       "</table>\n",
       "</div>"
      ],
      "text/plain": [
       "   movieId             title                       genres  userId  rating  \\\n",
       "0        1  Toy Story (1995)  Animation|Children's|Comedy       1       5   \n",
       "1        1  Toy Story (1995)  Animation|Children's|Comedy       6       4   \n",
       "2        1  Toy Story (1995)  Animation|Children's|Comedy       8       4   \n",
       "\n",
       "   timestamp  \n",
       "0  978824268  \n",
       "1  978237008  \n",
       "2  978233496  "
      ]
     },
     "execution_count": 12,
     "metadata": {},
     "output_type": "execute_result"
    }
   ],
   "source": [
    "df_movie_ratings = pd.merge(df_movies, df_ratings)\n",
    "df_movie_ratings.head(3)"
   ]
  },
  {
   "cell_type": "code",
   "execution_count": 13,
   "metadata": {},
   "outputs": [
    {
     "name": "stdout",
     "output_type": "stream",
     "text": [
      "Movies columns   :  Index(['movieId', 'title', 'genres'], dtype='object')\n",
      "Ratings columns  :  Index(['userId', 'movieId', 'rating', 'timestamp'], dtype='object')\n",
      "Combined columns :  Index(['movieId', 'title', 'genres', 'userId', 'rating', 'timestamp'], dtype='object')\n"
     ]
    }
   ],
   "source": [
    "print('Movies columns   : ', df_movies.columns)\n",
    "print('Ratings columns  : ', df_ratings.columns)\n",
    "print('Combined columns : ', df_movie_ratings.columns)"
   ]
  },
  {
   "cell_type": "markdown",
   "metadata": {},
   "source": [
    "#### 2nd merge\n",
    "common column : userId"
   ]
  },
  {
   "cell_type": "code",
   "execution_count": 14,
   "metadata": {},
   "outputs": [
    {
     "name": "stdout",
     "output_type": "stream",
     "text": [
      "Index(['movieId', 'title', 'genres', 'userId', 'rating', 'timestamp', 'Gender',\n",
      "       'Age', 'Occupation', 'Zip-code'],\n",
      "      dtype='object')\n"
     ]
    }
   ],
   "source": [
    "df_movie_ratings_users = pd.merge(df_movie_ratings, df_users)\n",
    "print(df_movie_ratings_users.columns)"
   ]
  },
  {
   "cell_type": "code",
   "execution_count": 15,
   "metadata": {},
   "outputs": [
    {
     "name": "stdout",
     "output_type": "stream",
     "text": [
      "<class 'pandas.core.frame.DataFrame'>\n",
      "Int64Index: 1000209 entries, 0 to 1000208\n",
      "Data columns (total 10 columns):\n",
      "movieId       1000209 non-null int64\n",
      "title         1000209 non-null object\n",
      "genres        1000209 non-null object\n",
      "userId        1000209 non-null int64\n",
      "rating        1000209 non-null int64\n",
      "timestamp     1000209 non-null int64\n",
      "Gender        1000209 non-null object\n",
      "Age           1000209 non-null int64\n",
      "Occupation    1000209 non-null int64\n",
      "Zip-code      1000209 non-null object\n",
      "dtypes: int64(6), object(4)\n",
      "memory usage: 83.9+ MB\n"
     ]
    }
   ],
   "source": [
    "# Visualize user age distribution\n",
    "df_movie_ratings_users.info()"
   ]
  },
  {
   "cell_type": "code",
   "execution_count": 16,
   "metadata": {},
   "outputs": [
    {
     "data": {
      "text/html": [
       "<div>\n",
       "<style>\n",
       "    .dataframe thead tr:only-child th {\n",
       "        text-align: right;\n",
       "    }\n",
       "\n",
       "    .dataframe thead th {\n",
       "        text-align: left;\n",
       "    }\n",
       "\n",
       "    .dataframe tbody tr th {\n",
       "        vertical-align: top;\n",
       "    }\n",
       "</style>\n",
       "<table border=\"1\" class=\"dataframe\">\n",
       "  <thead>\n",
       "    <tr style=\"text-align: right;\">\n",
       "      <th></th>\n",
       "      <th>movieId</th>\n",
       "      <th>userId</th>\n",
       "      <th>rating</th>\n",
       "      <th>timestamp</th>\n",
       "      <th>Age</th>\n",
       "      <th>Occupation</th>\n",
       "    </tr>\n",
       "  </thead>\n",
       "  <tbody>\n",
       "    <tr>\n",
       "      <th>count</th>\n",
       "      <td>1,000,209.00</td>\n",
       "      <td>1,000,209.00</td>\n",
       "      <td>1,000,209.00</td>\n",
       "      <td>1,000,209.00</td>\n",
       "      <td>1,000,209.00</td>\n",
       "      <td>1,000,209.00</td>\n",
       "    </tr>\n",
       "    <tr>\n",
       "      <th>mean</th>\n",
       "      <td>1,865.54</td>\n",
       "      <td>3,024.51</td>\n",
       "      <td>3.58</td>\n",
       "      <td>972,243,695.40</td>\n",
       "      <td>29.74</td>\n",
       "      <td>8.04</td>\n",
       "    </tr>\n",
       "    <tr>\n",
       "      <th>std</th>\n",
       "      <td>1,096.04</td>\n",
       "      <td>1,728.41</td>\n",
       "      <td>1.12</td>\n",
       "      <td>12,152,558.94</td>\n",
       "      <td>11.75</td>\n",
       "      <td>6.53</td>\n",
       "    </tr>\n",
       "    <tr>\n",
       "      <th>min</th>\n",
       "      <td>1.00</td>\n",
       "      <td>1.00</td>\n",
       "      <td>1.00</td>\n",
       "      <td>956,703,932.00</td>\n",
       "      <td>1.00</td>\n",
       "      <td>0.00</td>\n",
       "    </tr>\n",
       "    <tr>\n",
       "      <th>25%</th>\n",
       "      <td>1,030.00</td>\n",
       "      <td>1,506.00</td>\n",
       "      <td>3.00</td>\n",
       "      <td>965,302,637.00</td>\n",
       "      <td>25.00</td>\n",
       "      <td>2.00</td>\n",
       "    </tr>\n",
       "    <tr>\n",
       "      <th>50%</th>\n",
       "      <td>1,835.00</td>\n",
       "      <td>3,070.00</td>\n",
       "      <td>4.00</td>\n",
       "      <td>973,018,006.00</td>\n",
       "      <td>25.00</td>\n",
       "      <td>7.00</td>\n",
       "    </tr>\n",
       "    <tr>\n",
       "      <th>75%</th>\n",
       "      <td>2,770.00</td>\n",
       "      <td>4,476.00</td>\n",
       "      <td>4.00</td>\n",
       "      <td>975,220,939.00</td>\n",
       "      <td>35.00</td>\n",
       "      <td>14.00</td>\n",
       "    </tr>\n",
       "    <tr>\n",
       "      <th>max</th>\n",
       "      <td>3,952.00</td>\n",
       "      <td>6,040.00</td>\n",
       "      <td>5.00</td>\n",
       "      <td>1,046,454,590.00</td>\n",
       "      <td>56.00</td>\n",
       "      <td>20.00</td>\n",
       "    </tr>\n",
       "  </tbody>\n",
       "</table>\n",
       "</div>"
      ],
      "text/plain": [
       "           movieId       userId       rating        timestamp          Age  \\\n",
       "count 1,000,209.00 1,000,209.00 1,000,209.00     1,000,209.00 1,000,209.00   \n",
       "mean      1,865.54     3,024.51         3.58   972,243,695.40        29.74   \n",
       "std       1,096.04     1,728.41         1.12    12,152,558.94        11.75   \n",
       "min           1.00         1.00         1.00   956,703,932.00         1.00   \n",
       "25%       1,030.00     1,506.00         3.00   965,302,637.00        25.00   \n",
       "50%       1,835.00     3,070.00         4.00   973,018,006.00        25.00   \n",
       "75%       2,770.00     4,476.00         4.00   975,220,939.00        35.00   \n",
       "max       3,952.00     6,040.00         5.00 1,046,454,590.00        56.00   \n",
       "\n",
       "        Occupation  \n",
       "count 1,000,209.00  \n",
       "mean          8.04  \n",
       "std           6.53  \n",
       "min           0.00  \n",
       "25%           2.00  \n",
       "50%           7.00  \n",
       "75%          14.00  \n",
       "max          20.00  "
      ]
     },
     "execution_count": 16,
     "metadata": {},
     "output_type": "execute_result"
    }
   ],
   "source": [
    "# basic stats on fully merged DF\n",
    "\n",
    "pd.options.display.float_format = '{:,.2f}'.format\n",
    "df_movie_ratings_users.describe()"
   ]
  },
  {
   "cell_type": "markdown",
   "metadata": {},
   "source": [
    "# pre-processing"
   ]
  },
  {
   "cell_type": "code",
   "execution_count": 17,
   "metadata": {},
   "outputs": [
    {
     "name": "stdout",
     "output_type": "stream",
     "text": [
      "2018\n",
      "02\n",
      "17\n",
      "11:33:38\n",
      "India Standard Time\n"
     ]
    }
   ],
   "source": [
    "t = (2018, 2, 17, 17, 3, 38, 1, 48, 0)\n",
    "t = time.mktime(t)\n",
    "\n",
    "print (time.strftime(\"%Y\", time.gmtime(t)))\n",
    "print (time.strftime(\"%m\", time.gmtime(t)))\n",
    "print (time.strftime(\"%d\", time.gmtime(t)))\n",
    "print (time.strftime(\"%H:%M:%S\", time.gmtime(t)))\n",
    "\n",
    "print (time.strftime(\"%Z\", time.gmtime(t)))"
   ]
  },
  {
   "cell_type": "code",
   "execution_count": 18,
   "metadata": {
    "collapsed": true
   },
   "outputs": [],
   "source": [
    "df_movie_ratings_users['timestamp'] = df_movie_ratings_users['timestamp'].apply(lambda x: time.strftime('%Y', time.localtime(x)))"
   ]
  },
  {
   "cell_type": "code",
   "execution_count": 19,
   "metadata": {},
   "outputs": [
    {
     "data": {
      "text/plain": [
       "0    2001\n",
       "1    2001\n",
       "2    2001\n",
       "3    2001\n",
       "4    2001\n",
       "Name: timestamp, dtype: object"
      ]
     },
     "execution_count": 19,
     "metadata": {},
     "output_type": "execute_result"
    }
   ],
   "source": [
    "df_movie_ratings_users.timestamp.head()"
   ]
  },
  {
   "cell_type": "code",
   "execution_count": 20,
   "metadata": {
    "collapsed": true
   },
   "outputs": [],
   "source": [
    "# drop the titles col\n",
    "# df_movie_ratings_users = df_movie_ratings_users.drop('title', axis=1)\n"
   ]
  },
  {
   "cell_type": "code",
   "execution_count": 21,
   "metadata": {},
   "outputs": [
    {
     "data": {
      "text/html": [
       "<div>\n",
       "<style>\n",
       "    .dataframe thead tr:only-child th {\n",
       "        text-align: right;\n",
       "    }\n",
       "\n",
       "    .dataframe thead th {\n",
       "        text-align: left;\n",
       "    }\n",
       "\n",
       "    .dataframe tbody tr th {\n",
       "        vertical-align: top;\n",
       "    }\n",
       "</style>\n",
       "<table border=\"1\" class=\"dataframe\">\n",
       "  <thead>\n",
       "    <tr style=\"text-align: right;\">\n",
       "      <th></th>\n",
       "      <th>movieId</th>\n",
       "      <th>title</th>\n",
       "      <th>genres</th>\n",
       "      <th>userId</th>\n",
       "      <th>rating</th>\n",
       "      <th>timestamp</th>\n",
       "      <th>Gender</th>\n",
       "      <th>Age</th>\n",
       "      <th>Occupation</th>\n",
       "      <th>Zip-code</th>\n",
       "    </tr>\n",
       "  </thead>\n",
       "  <tbody>\n",
       "    <tr>\n",
       "      <th>0</th>\n",
       "      <td>1</td>\n",
       "      <td>Toy Story (1995)</td>\n",
       "      <td>Animation|Children's|Comedy</td>\n",
       "      <td>1</td>\n",
       "      <td>5</td>\n",
       "      <td>2001</td>\n",
       "      <td>F</td>\n",
       "      <td>1</td>\n",
       "      <td>10</td>\n",
       "      <td>48067</td>\n",
       "    </tr>\n",
       "    <tr>\n",
       "      <th>1</th>\n",
       "      <td>48</td>\n",
       "      <td>Pocahontas (1995)</td>\n",
       "      <td>Animation|Children's|Musical|Romance</td>\n",
       "      <td>1</td>\n",
       "      <td>5</td>\n",
       "      <td>2001</td>\n",
       "      <td>F</td>\n",
       "      <td>1</td>\n",
       "      <td>10</td>\n",
       "      <td>48067</td>\n",
       "    </tr>\n",
       "    <tr>\n",
       "      <th>2</th>\n",
       "      <td>150</td>\n",
       "      <td>Apollo 13 (1995)</td>\n",
       "      <td>Drama</td>\n",
       "      <td>1</td>\n",
       "      <td>5</td>\n",
       "      <td>2001</td>\n",
       "      <td>F</td>\n",
       "      <td>1</td>\n",
       "      <td>10</td>\n",
       "      <td>48067</td>\n",
       "    </tr>\n",
       "    <tr>\n",
       "      <th>3</th>\n",
       "      <td>260</td>\n",
       "      <td>Star Wars: Episode IV - A New Hope (1977)</td>\n",
       "      <td>Action|Adventure|Fantasy|Sci-Fi</td>\n",
       "      <td>1</td>\n",
       "      <td>4</td>\n",
       "      <td>2001</td>\n",
       "      <td>F</td>\n",
       "      <td>1</td>\n",
       "      <td>10</td>\n",
       "      <td>48067</td>\n",
       "    </tr>\n",
       "    <tr>\n",
       "      <th>4</th>\n",
       "      <td>527</td>\n",
       "      <td>Schindler's List (1993)</td>\n",
       "      <td>Drama|War</td>\n",
       "      <td>1</td>\n",
       "      <td>5</td>\n",
       "      <td>2001</td>\n",
       "      <td>F</td>\n",
       "      <td>1</td>\n",
       "      <td>10</td>\n",
       "      <td>48067</td>\n",
       "    </tr>\n",
       "  </tbody>\n",
       "</table>\n",
       "</div>"
      ],
      "text/plain": [
       "   movieId                                      title  \\\n",
       "0        1                           Toy Story (1995)   \n",
       "1       48                          Pocahontas (1995)   \n",
       "2      150                           Apollo 13 (1995)   \n",
       "3      260  Star Wars: Episode IV - A New Hope (1977)   \n",
       "4      527                    Schindler's List (1993)   \n",
       "\n",
       "                                 genres  userId  rating timestamp Gender  Age  \\\n",
       "0           Animation|Children's|Comedy       1       5      2001      F    1   \n",
       "1  Animation|Children's|Musical|Romance       1       5      2001      F    1   \n",
       "2                                 Drama       1       5      2001      F    1   \n",
       "3       Action|Adventure|Fantasy|Sci-Fi       1       4      2001      F    1   \n",
       "4                             Drama|War       1       5      2001      F    1   \n",
       "\n",
       "   Occupation Zip-code  \n",
       "0          10    48067  \n",
       "1          10    48067  \n",
       "2          10    48067  \n",
       "3          10    48067  \n",
       "4          10    48067  "
      ]
     },
     "execution_count": 21,
     "metadata": {},
     "output_type": "execute_result"
    }
   ],
   "source": [
    "df_movie_ratings_users.head()"
   ]
  },
  {
   "cell_type": "markdown",
   "metadata": {},
   "source": [
    "# Visualizations\n",
    "\n",
    "#### Visualize user age distribution"
   ]
  },
  {
   "cell_type": "code",
   "execution_count": 89,
   "metadata": {},
   "outputs": [
    {
     "data": {
      "image/png": "[encoded data removed]",
      "text/plain": [
       "<matplotlib.figure.Figure at 0x20e985bf588>"
      ]
     },
     "metadata": {},
     "output_type": "display_data"
    }
   ],
   "source": [
    "plt.figure(figsize=(9, 6))\n",
    "\n",
    "df_users.Age.plot.hist()\n",
    "\n",
    "plt.title(\"Distribution of users' ages\")\n",
    "plt.ylabel('count of users')\n",
    "plt.xlabel('age');"
   ]
  },
  {
   "cell_type": "markdown",
   "metadata": {},
   "source": [
    "#### average rating of each movie"
   ]
  },
  {
   "cell_type": "code",
   "execution_count": 22,
   "metadata": {},
   "outputs": [
    {
     "data": {
      "text/plain": [
       "Index(['movieId', 'title', 'genres', 'userId', 'rating', 'timestamp'], dtype='object')"
      ]
     },
     "execution_count": 22,
     "metadata": {},
     "output_type": "execute_result"
    }
   ],
   "source": [
    "df_movie_ratings.columns"
   ]
  },
  {
   "cell_type": "code",
   "execution_count": 23,
   "metadata": {},
   "outputs": [
    {
     "data": {
      "text/plain": [
       "title\n",
       "$1,000,000 Duck (1971)          3.03\n",
       "'Night Mother (1986)            3.37\n",
       "'Til There Was You (1997)       2.69\n",
       "'burbs, The (1989)              2.91\n",
       "...And Justice for All (1979)   3.71\n",
       "Name: rating, dtype: float64"
      ]
     },
     "execution_count": 23,
     "metadata": {},
     "output_type": "execute_result"
    }
   ],
   "source": [
    "df_movie_ratings.groupby('title')['rating'].mean().head()  "
   ]
  },
  {
   "cell_type": "code",
   "execution_count": 24,
   "metadata": {},
   "outputs": [
    {
     "data": {
      "text/plain": [
       "title\n",
       "Gate of Heavenly Peace, The (1995)          5.00\n",
       "Lured (1947)                                5.00\n",
       "Ulysses (Ulisse) (1954)                     5.00\n",
       "Smashing Time (1967)                        5.00\n",
       "Follow the Bitch (1998)                     5.00\n",
       "Song of Freedom (1936)                      5.00\n",
       "Bittersweet Motel (2000)                    5.00\n",
       "Baby, The (1973)                            5.00\n",
       "One Little Indian (1973)                    5.00\n",
       "Schlafes Bruder (Brother of Sleep) (1995)   5.00\n",
       "Name: rating, dtype: float64"
      ]
     },
     "execution_count": 24,
     "metadata": {},
     "output_type": "execute_result"
    }
   ],
   "source": [
    "# sort the ratings in the descending order of their average ratings:\n",
    "df_movie_ratings.groupby('title')['rating'].mean().sort_values(ascending=False)[:10]"
   ]
  },
  {
   "cell_type": "code",
   "execution_count": 25,
   "metadata": {},
   "outputs": [
    {
     "data": {
      "text/plain": [
       "title\n",
       "American Beauty (1999)                                   3428\n",
       "Star Wars: Episode IV - A New Hope (1977)                2991\n",
       "Star Wars: Episode V - The Empire Strikes Back (1980)    2990\n",
       "Star Wars: Episode VI - Return of the Jedi (1983)        2883\n",
       "Jurassic Park (1993)                                     2672\n",
       "Saving Private Ryan (1998)                               2653\n",
       "Terminator 2: Judgment Day (1991)                        2649\n",
       "Matrix, The (1999)                                       2590\n",
       "Back to the Future (1985)                                2583\n",
       "Silence of the Lambs, The (1991)                         2578\n",
       "Name: rating, dtype: int64"
      ]
     },
     "execution_count": 25,
     "metadata": {},
     "output_type": "execute_result"
    }
   ],
   "source": [
    "# get total number of ratings for a movie\n",
    "\n",
    "df_movie_ratings.groupby('title')['rating'].count().sort_values(ascending=False)[:10]"
   ]
  },
  {
   "cell_type": "markdown",
   "metadata": {},
   "source": [
    "#### both the average rating per movie and the number of ratings per movie are important attributes."
   ]
  },
  {
   "cell_type": "code",
   "execution_count": 28,
   "metadata": {},
   "outputs": [
    {
     "data": {
      "text/plain": [
       "Index(['rating', 'rating_counts'], dtype='object')"
      ]
     },
     "execution_count": 28,
     "metadata": {},
     "output_type": "execute_result"
    }
   ],
   "source": [
    "ratings_mean_count = pd.DataFrame(data=df_movie_ratings.groupby('title')['rating'].mean()) \n",
    "ratings_mean_count['rating_counts'] = pd.DataFrame(df_movie_ratings.groupby('title')['rating'].count())  \n",
    "ratings_mean_count.columns"
   ]
  },
  {
   "cell_type": "code",
   "execution_count": 29,
   "metadata": {},
   "outputs": [
    {
     "data": {
      "text/plain": [
       "Index(['title', 'rating', 'rating_counts'], dtype='object')"
      ]
     },
     "execution_count": 29,
     "metadata": {},
     "output_type": "execute_result"
    }
   ],
   "source": [
    "ratings_mean_count.reset_index(inplace=True)\n",
    "ratings_mean_count.columns"
   ]
  },
  {
   "cell_type": "code",
   "execution_count": 30,
   "metadata": {},
   "outputs": [
    {
     "data": {
      "text/html": [
       "<div>\n",
       "<style>\n",
       "    .dataframe thead tr:only-child th {\n",
       "        text-align: right;\n",
       "    }\n",
       "\n",
       "    .dataframe thead th {\n",
       "        text-align: left;\n",
       "    }\n",
       "\n",
       "    .dataframe tbody tr th {\n",
       "        vertical-align: top;\n",
       "    }\n",
       "</style>\n",
       "<table border=\"1\" class=\"dataframe\">\n",
       "  <thead>\n",
       "    <tr style=\"text-align: right;\">\n",
       "      <th></th>\n",
       "      <th>title</th>\n",
       "      <th>rating</th>\n",
       "      <th>rating_counts</th>\n",
       "    </tr>\n",
       "  </thead>\n",
       "  <tbody>\n",
       "    <tr>\n",
       "      <th>0</th>\n",
       "      <td>$1,000,000 Duck (1971)</td>\n",
       "      <td>3.03</td>\n",
       "      <td>37</td>\n",
       "    </tr>\n",
       "    <tr>\n",
       "      <th>1</th>\n",
       "      <td>'Night Mother (1986)</td>\n",
       "      <td>3.37</td>\n",
       "      <td>70</td>\n",
       "    </tr>\n",
       "    <tr>\n",
       "      <th>2</th>\n",
       "      <td>'Til There Was You (1997)</td>\n",
       "      <td>2.69</td>\n",
       "      <td>52</td>\n",
       "    </tr>\n",
       "    <tr>\n",
       "      <th>3</th>\n",
       "      <td>'burbs, The (1989)</td>\n",
       "      <td>2.91</td>\n",
       "      <td>303</td>\n",
       "    </tr>\n",
       "    <tr>\n",
       "      <th>4</th>\n",
       "      <td>...And Justice for All (1979)</td>\n",
       "      <td>3.71</td>\n",
       "      <td>199</td>\n",
       "    </tr>\n",
       "  </tbody>\n",
       "</table>\n",
       "</div>"
      ],
      "text/plain": [
       "                           title  rating  rating_counts\n",
       "0         $1,000,000 Duck (1971)    3.03             37\n",
       "1           'Night Mother (1986)    3.37             70\n",
       "2      'Til There Was You (1997)    2.69             52\n",
       "3             'burbs, The (1989)    2.91            303\n",
       "4  ...And Justice for All (1979)    3.71            199"
      ]
     },
     "execution_count": 30,
     "metadata": {},
     "output_type": "execute_result"
    }
   ],
   "source": [
    "ratings_mean_count.head()"
   ]
  },
  {
   "cell_type": "code",
   "execution_count": 31,
   "metadata": {},
   "outputs": [
    {
     "data": {
      "image/png": "[encoded data removed]",
      "text/plain": [
       "<matplotlib.figure.Figure at 0x1a709736a20>"
      ]
     },
     "metadata": {},
     "output_type": "display_data"
    }
   ],
   "source": [
    "plt.figure(figsize=(9, 6))\n",
    "ratings_mean_count['rating_counts'].hist(bins=5)  \n",
    "\n",
    "plt.title(\"Distribution of rating counts\")\n",
    "plt.ylabel('count of users')\n",
    "plt.xlabel('Rating');"
   ]
  },
  {
   "cell_type": "code",
   "execution_count": 32,
   "metadata": {},
   "outputs": [
    {
     "data": {
      "image/png": "[encoded data removed]",
      "text/plain": [
       "<matplotlib.figure.Figure at 0x1a702d814a8>"
      ]
     },
     "metadata": {},
     "output_type": "display_data"
    }
   ],
   "source": [
    "plt.figure(figsize=(9, 6))\n",
    "ratings_mean_count['rating'].hist(bins=50)  \n",
    "\n",
    "plt.title(\"Distribution of rating counts\")\n",
    "plt.ylabel('count of users')\n",
    "plt.xlabel('Rating');"
   ]
  },
  {
   "cell_type": "markdown",
   "metadata": {},
   "source": [
    "- data has a __weak normal distribution__ with the mean of around 3.5. \n",
    "- There are a few outliers in the data."
   ]
  },
  {
   "cell_type": "markdown",
   "metadata": {},
   "source": [
    "#### movies with \n",
    "- a higher number of ratings usually have a high average rating "
   ]
  },
  {
   "cell_type": "code",
   "execution_count": 33,
   "metadata": {},
   "outputs": [
    {
     "data": {
      "text/plain": [
       "<matplotlib.figure.Figure at 0x1a71563f240>"
      ]
     },
     "metadata": {},
     "output_type": "display_data"
    },
    {
     "data": {
      "image/png": "[encoded data removed]",
      "text/plain": [
       "<matplotlib.figure.Figure at 0x1a70b709cc0>"
      ]
     },
     "metadata": {},
     "output_type": "display_data"
    }
   ],
   "source": [
    "plt.figure(figsize=(10,6))  \n",
    "plt.rcParams['patch.force_edgecolor'] = True  \n",
    "\n",
    "sns.jointplot(x='rating', y='rating_counts', data=ratings_mean_count, alpha=0.4) ; "
   ]
  },
  {
   "cell_type": "markdown",
   "metadata": {},
   "source": [
    "The graph shows that, in general, movies with higher average ratings actually have more number of ratings, compared with movies that have lower average ratings."
   ]
  },
  {
   "cell_type": "markdown",
   "metadata": {
    "collapsed": true
   },
   "source": [
    "#### Find and visualize the user rating of the movie “Toy Story”"
   ]
  },
  {
   "cell_type": "code",
   "execution_count": 34,
   "metadata": {},
   "outputs": [
    {
     "data": {
      "text/plain": [
       "Index(['movieId', 'title', 'genres', 'userId', 'rating', 'timestamp'], dtype='object')"
      ]
     },
     "execution_count": 34,
     "metadata": {},
     "output_type": "execute_result"
    }
   ],
   "source": [
    "df_movie_ratings.columns"
   ]
  },
  {
   "cell_type": "code",
   "execution_count": 35,
   "metadata": {},
   "outputs": [
    {
     "data": {
      "image/png": "[encoded data removed]",
      "text/plain": [
       "<matplotlib.figure.Figure at 0x1a7157cd780>"
      ]
     },
     "metadata": {},
     "output_type": "display_data"
    }
   ],
   "source": [
    "df_movie_ratings[df_movie_ratings['title'] == 'Toy Story (1995)'].rating.hist();"
   ]
  },
  {
   "cell_type": "markdown",
   "metadata": {},
   "source": [
    "#### Find and visualize the viewership of the movie “Toy Story” by age group"
   ]
  },
  {
   "cell_type": "code",
   "execution_count": 36,
   "metadata": {
    "collapsed": true
   },
   "outputs": [],
   "source": [
    "labels = ['0-9', '10-19', '20-29', '30-39', '40-49', '50-59', '60-69', '70-79']\n",
    "df_movie_ratings_users['age_group'] = pd.cut(df_movie_ratings_users.Age, range(0, 81, 10), right=False, labels=labels)\n",
    "#df_users_copy[['age', 'age_group']].drop_duplicates()[:10]"
   ]
  },
  {
   "cell_type": "code",
   "execution_count": 37,
   "metadata": {},
   "outputs": [
    {
     "data": {
      "text/html": [
       "<div>\n",
       "<style>\n",
       "    .dataframe thead tr:only-child th {\n",
       "        text-align: right;\n",
       "    }\n",
       "\n",
       "    .dataframe thead th {\n",
       "        text-align: left;\n",
       "    }\n",
       "\n",
       "    .dataframe tbody tr th {\n",
       "        vertical-align: top;\n",
       "    }\n",
       "</style>\n",
       "<table border=\"1\" class=\"dataframe\">\n",
       "  <thead>\n",
       "    <tr style=\"text-align: right;\">\n",
       "      <th></th>\n",
       "      <th>movieId</th>\n",
       "      <th>title</th>\n",
       "      <th>genres</th>\n",
       "      <th>userId</th>\n",
       "      <th>rating</th>\n",
       "      <th>timestamp</th>\n",
       "      <th>Gender</th>\n",
       "      <th>Age</th>\n",
       "      <th>Occupation</th>\n",
       "      <th>Zip-code</th>\n",
       "      <th>age_group</th>\n",
       "    </tr>\n",
       "  </thead>\n",
       "  <tbody>\n",
       "    <tr>\n",
       "      <th>0</th>\n",
       "      <td>1</td>\n",
       "      <td>Toy Story (1995)</td>\n",
       "      <td>Animation|Children's|Comedy</td>\n",
       "      <td>1</td>\n",
       "      <td>5</td>\n",
       "      <td>2001</td>\n",
       "      <td>F</td>\n",
       "      <td>1</td>\n",
       "      <td>10</td>\n",
       "      <td>48067</td>\n",
       "      <td>0-9</td>\n",
       "    </tr>\n",
       "    <tr>\n",
       "      <th>1</th>\n",
       "      <td>48</td>\n",
       "      <td>Pocahontas (1995)</td>\n",
       "      <td>Animation|Children's|Musical|Romance</td>\n",
       "      <td>1</td>\n",
       "      <td>5</td>\n",
       "      <td>2001</td>\n",
       "      <td>F</td>\n",
       "      <td>1</td>\n",
       "      <td>10</td>\n",
       "      <td>48067</td>\n",
       "      <td>0-9</td>\n",
       "    </tr>\n",
       "    <tr>\n",
       "      <th>2</th>\n",
       "      <td>150</td>\n",
       "      <td>Apollo 13 (1995)</td>\n",
       "      <td>Drama</td>\n",
       "      <td>1</td>\n",
       "      <td>5</td>\n",
       "      <td>2001</td>\n",
       "      <td>F</td>\n",
       "      <td>1</td>\n",
       "      <td>10</td>\n",
       "      <td>48067</td>\n",
       "      <td>0-9</td>\n",
       "    </tr>\n",
       "    <tr>\n",
       "      <th>3</th>\n",
       "      <td>260</td>\n",
       "      <td>Star Wars: Episode IV - A New Hope (1977)</td>\n",
       "      <td>Action|Adventure|Fantasy|Sci-Fi</td>\n",
       "      <td>1</td>\n",
       "      <td>4</td>\n",
       "      <td>2001</td>\n",
       "      <td>F</td>\n",
       "      <td>1</td>\n",
       "      <td>10</td>\n",
       "      <td>48067</td>\n",
       "      <td>0-9</td>\n",
       "    </tr>\n",
       "    <tr>\n",
       "      <th>4</th>\n",
       "      <td>527</td>\n",
       "      <td>Schindler's List (1993)</td>\n",
       "      <td>Drama|War</td>\n",
       "      <td>1</td>\n",
       "      <td>5</td>\n",
       "      <td>2001</td>\n",
       "      <td>F</td>\n",
       "      <td>1</td>\n",
       "      <td>10</td>\n",
       "      <td>48067</td>\n",
       "      <td>0-9</td>\n",
       "    </tr>\n",
       "  </tbody>\n",
       "</table>\n",
       "</div>"
      ],
      "text/plain": [
       "   movieId                                      title  \\\n",
       "0        1                           Toy Story (1995)   \n",
       "1       48                          Pocahontas (1995)   \n",
       "2      150                           Apollo 13 (1995)   \n",
       "3      260  Star Wars: Episode IV - A New Hope (1977)   \n",
       "4      527                    Schindler's List (1993)   \n",
       "\n",
       "                                 genres  userId  rating timestamp Gender  Age  \\\n",
       "0           Animation|Children's|Comedy       1       5      2001      F    1   \n",
       "1  Animation|Children's|Musical|Romance       1       5      2001      F    1   \n",
       "2                                 Drama       1       5      2001      F    1   \n",
       "3       Action|Adventure|Fantasy|Sci-Fi       1       4      2001      F    1   \n",
       "4                             Drama|War       1       5      2001      F    1   \n",
       "\n",
       "   Occupation Zip-code age_group  \n",
       "0          10    48067       0-9  \n",
       "1          10    48067       0-9  \n",
       "2          10    48067       0-9  \n",
       "3          10    48067       0-9  \n",
       "4          10    48067       0-9  "
      ]
     },
     "execution_count": 37,
     "metadata": {},
     "output_type": "execute_result"
    }
   ],
   "source": [
    "df_movie_ratings_users.head()"
   ]
  },
  {
   "cell_type": "code",
   "execution_count": 38,
   "metadata": {},
   "outputs": [
    {
     "data": {
      "text/html": [
       "<div>\n",
       "<style>\n",
       "    .dataframe thead tr:only-child th {\n",
       "        text-align: right;\n",
       "    }\n",
       "\n",
       "    .dataframe thead th {\n",
       "        text-align: left;\n",
       "    }\n",
       "\n",
       "    .dataframe tbody tr th {\n",
       "        vertical-align: top;\n",
       "    }\n",
       "</style>\n",
       "<table border=\"1\" class=\"dataframe\">\n",
       "  <thead>\n",
       "    <tr>\n",
       "      <th></th>\n",
       "      <th colspan=\"2\" halign=\"left\">rating</th>\n",
       "    </tr>\n",
       "    <tr>\n",
       "      <th></th>\n",
       "      <th>size</th>\n",
       "      <th>mean</th>\n",
       "    </tr>\n",
       "    <tr>\n",
       "      <th>age_group</th>\n",
       "      <th></th>\n",
       "      <th></th>\n",
       "    </tr>\n",
       "  </thead>\n",
       "  <tbody>\n",
       "    <tr>\n",
       "      <th>0-9</th>\n",
       "      <td>27,211.00</td>\n",
       "      <td>3.55</td>\n",
       "    </tr>\n",
       "    <tr>\n",
       "      <th>10-19</th>\n",
       "      <td>183,536.00</td>\n",
       "      <td>3.51</td>\n",
       "    </tr>\n",
       "    <tr>\n",
       "      <th>20-29</th>\n",
       "      <td>395,556.00</td>\n",
       "      <td>3.55</td>\n",
       "    </tr>\n",
       "    <tr>\n",
       "      <th>30-39</th>\n",
       "      <td>199,003.00</td>\n",
       "      <td>3.62</td>\n",
       "    </tr>\n",
       "    <tr>\n",
       "      <th>40-49</th>\n",
       "      <td>83,633.00</td>\n",
       "      <td>3.64</td>\n",
       "    </tr>\n",
       "    <tr>\n",
       "      <th>50-59</th>\n",
       "      <td>111,270.00</td>\n",
       "      <td>3.73</td>\n",
       "    </tr>\n",
       "    <tr>\n",
       "      <th>60-69</th>\n",
       "      <td>nan</td>\n",
       "      <td>nan</td>\n",
       "    </tr>\n",
       "    <tr>\n",
       "      <th>70-79</th>\n",
       "      <td>nan</td>\n",
       "      <td>nan</td>\n",
       "    </tr>\n",
       "  </tbody>\n",
       "</table>\n",
       "</div>"
      ],
      "text/plain": [
       "              rating     \n",
       "                size mean\n",
       "age_group                \n",
       "0-9        27,211.00 3.55\n",
       "10-19     183,536.00 3.51\n",
       "20-29     395,556.00 3.55\n",
       "30-39     199,003.00 3.62\n",
       "40-49      83,633.00 3.64\n",
       "50-59     111,270.00 3.73\n",
       "60-69            nan  nan\n",
       "70-79            nan  nan"
      ]
     },
     "execution_count": 38,
     "metadata": {},
     "output_type": "execute_result"
    }
   ],
   "source": [
    "df_movie_ratings_users.groupby('age_group').agg({'rating': [np.size, np.mean]})"
   ]
  },
  {
   "cell_type": "markdown",
   "metadata": {},
   "source": [
    "#### Find and visualize the top 25 movies by viewership rating"
   ]
  },
  {
   "cell_type": "code",
   "execution_count": 39,
   "metadata": {},
   "outputs": [
    {
     "data": {
      "text/plain": [
       "title\n",
       "American Beauty (1999)                                   3428\n",
       "Star Wars: Episode IV - A New Hope (1977)                2991\n",
       "Star Wars: Episode V - The Empire Strikes Back (1980)    2990\n",
       "Star Wars: Episode VI - Return of the Jedi (1983)        2883\n",
       "Jurassic Park (1993)                                     2672\n",
       "Saving Private Ryan (1998)                               2653\n",
       "Terminator 2: Judgment Day (1991)                        2649\n",
       "Matrix, The (1999)                                       2590\n",
       "Back to the Future (1985)                                2583\n",
       "Silence of the Lambs, The (1991)                         2578\n",
       "Men in Black (1997)                                      2538\n",
       "Raiders of the Lost Ark (1981)                           2514\n",
       "Fargo (1996)                                             2513\n",
       "Sixth Sense, The (1999)                                  2459\n",
       "Braveheart (1995)                                        2443\n",
       "Shakespeare in Love (1998)                               2369\n",
       "Princess Bride, The (1987)                               2318\n",
       "Schindler's List (1993)                                  2304\n",
       "L.A. Confidential (1997)                                 2288\n",
       "Groundhog Day (1993)                                     2278\n",
       "E.T. the Extra-Terrestrial (1982)                        2269\n",
       "Star Wars: Episode I - The Phantom Menace (1999)         2250\n",
       "Being John Malkovich (1999)                              2241\n",
       "Shawshank Redemption, The (1994)                         2227\n",
       "Godfather, The (1972)                                    2223\n",
       "dtype: int64"
      ]
     },
     "execution_count": 39,
     "metadata": {},
     "output_type": "execute_result"
    }
   ],
   "source": [
    "df_movie_ratings_users.groupby('title').size().sort_values(ascending=False)[:25]"
   ]
  },
  {
   "cell_type": "markdown",
   "metadata": {},
   "source": [
    "#### Find the rating for a particular user of user id = 2696"
   ]
  },
  {
   "cell_type": "code",
   "execution_count": 40,
   "metadata": {},
   "outputs": [
    {
     "data": {
      "text/html": [
       "<div>\n",
       "<style>\n",
       "    .dataframe thead tr:only-child th {\n",
       "        text-align: right;\n",
       "    }\n",
       "\n",
       "    .dataframe thead th {\n",
       "        text-align: left;\n",
       "    }\n",
       "\n",
       "    .dataframe tbody tr th {\n",
       "        vertical-align: top;\n",
       "    }\n",
       "</style>\n",
       "<table border=\"1\" class=\"dataframe\">\n",
       "  <thead>\n",
       "    <tr style=\"text-align: right;\">\n",
       "      <th></th>\n",
       "      <th>movieId</th>\n",
       "      <th>title</th>\n",
       "      <th>genres</th>\n",
       "      <th>userId</th>\n",
       "      <th>rating</th>\n",
       "      <th>timestamp</th>\n",
       "      <th>Gender</th>\n",
       "      <th>Age</th>\n",
       "      <th>Occupation</th>\n",
       "      <th>Zip-code</th>\n",
       "      <th>age_group</th>\n",
       "    </tr>\n",
       "  </thead>\n",
       "  <tbody>\n",
       "    <tr>\n",
       "      <th>991035</th>\n",
       "      <td>350</td>\n",
       "      <td>Client, The (1994)</td>\n",
       "      <td>Drama|Mystery|Thriller</td>\n",
       "      <td>2696</td>\n",
       "      <td>3</td>\n",
       "      <td>2000</td>\n",
       "      <td>M</td>\n",
       "      <td>25</td>\n",
       "      <td>7</td>\n",
       "      <td>24210</td>\n",
       "      <td>20-29</td>\n",
       "    </tr>\n",
       "    <tr>\n",
       "      <th>991036</th>\n",
       "      <td>800</td>\n",
       "      <td>Lone Star (1996)</td>\n",
       "      <td>Drama|Mystery</td>\n",
       "      <td>2696</td>\n",
       "      <td>5</td>\n",
       "      <td>2000</td>\n",
       "      <td>M</td>\n",
       "      <td>25</td>\n",
       "      <td>7</td>\n",
       "      <td>24210</td>\n",
       "      <td>20-29</td>\n",
       "    </tr>\n",
       "    <tr>\n",
       "      <th>991037</th>\n",
       "      <td>1092</td>\n",
       "      <td>Basic Instinct (1992)</td>\n",
       "      <td>Mystery|Thriller</td>\n",
       "      <td>2696</td>\n",
       "      <td>4</td>\n",
       "      <td>2000</td>\n",
       "      <td>M</td>\n",
       "      <td>25</td>\n",
       "      <td>7</td>\n",
       "      <td>24210</td>\n",
       "      <td>20-29</td>\n",
       "    </tr>\n",
       "    <tr>\n",
       "      <th>991038</th>\n",
       "      <td>1097</td>\n",
       "      <td>E.T. the Extra-Terrestrial (1982)</td>\n",
       "      <td>Children's|Drama|Fantasy|Sci-Fi</td>\n",
       "      <td>2696</td>\n",
       "      <td>3</td>\n",
       "      <td>2000</td>\n",
       "      <td>M</td>\n",
       "      <td>25</td>\n",
       "      <td>7</td>\n",
       "      <td>24210</td>\n",
       "      <td>20-29</td>\n",
       "    </tr>\n",
       "    <tr>\n",
       "      <th>991039</th>\n",
       "      <td>1258</td>\n",
       "      <td>Shining, The (1980)</td>\n",
       "      <td>Horror</td>\n",
       "      <td>2696</td>\n",
       "      <td>4</td>\n",
       "      <td>2000</td>\n",
       "      <td>M</td>\n",
       "      <td>25</td>\n",
       "      <td>7</td>\n",
       "      <td>24210</td>\n",
       "      <td>20-29</td>\n",
       "    </tr>\n",
       "    <tr>\n",
       "      <th>991040</th>\n",
       "      <td>1270</td>\n",
       "      <td>Back to the Future (1985)</td>\n",
       "      <td>Comedy|Sci-Fi</td>\n",
       "      <td>2696</td>\n",
       "      <td>2</td>\n",
       "      <td>2000</td>\n",
       "      <td>M</td>\n",
       "      <td>25</td>\n",
       "      <td>7</td>\n",
       "      <td>24210</td>\n",
       "      <td>20-29</td>\n",
       "    </tr>\n",
       "    <tr>\n",
       "      <th>991041</th>\n",
       "      <td>1589</td>\n",
       "      <td>Cop Land (1997)</td>\n",
       "      <td>Crime|Drama|Mystery</td>\n",
       "      <td>2696</td>\n",
       "      <td>3</td>\n",
       "      <td>2000</td>\n",
       "      <td>M</td>\n",
       "      <td>25</td>\n",
       "      <td>7</td>\n",
       "      <td>24210</td>\n",
       "      <td>20-29</td>\n",
       "    </tr>\n",
       "    <tr>\n",
       "      <th>991042</th>\n",
       "      <td>1617</td>\n",
       "      <td>L.A. Confidential (1997)</td>\n",
       "      <td>Crime|Film-Noir|Mystery|Thriller</td>\n",
       "      <td>2696</td>\n",
       "      <td>4</td>\n",
       "      <td>2000</td>\n",
       "      <td>M</td>\n",
       "      <td>25</td>\n",
       "      <td>7</td>\n",
       "      <td>24210</td>\n",
       "      <td>20-29</td>\n",
       "    </tr>\n",
       "    <tr>\n",
       "      <th>991043</th>\n",
       "      <td>1625</td>\n",
       "      <td>Game, The (1997)</td>\n",
       "      <td>Mystery|Thriller</td>\n",
       "      <td>2696</td>\n",
       "      <td>4</td>\n",
       "      <td>2000</td>\n",
       "      <td>M</td>\n",
       "      <td>25</td>\n",
       "      <td>7</td>\n",
       "      <td>24210</td>\n",
       "      <td>20-29</td>\n",
       "    </tr>\n",
       "    <tr>\n",
       "      <th>991044</th>\n",
       "      <td>1644</td>\n",
       "      <td>I Know What You Did Last Summer (1997)</td>\n",
       "      <td>Horror|Mystery|Thriller</td>\n",
       "      <td>2696</td>\n",
       "      <td>2</td>\n",
       "      <td>2000</td>\n",
       "      <td>M</td>\n",
       "      <td>25</td>\n",
       "      <td>7</td>\n",
       "      <td>24210</td>\n",
       "      <td>20-29</td>\n",
       "    </tr>\n",
       "    <tr>\n",
       "      <th>991045</th>\n",
       "      <td>1645</td>\n",
       "      <td>Devil's Advocate, The (1997)</td>\n",
       "      <td>Crime|Horror|Mystery|Thriller</td>\n",
       "      <td>2696</td>\n",
       "      <td>4</td>\n",
       "      <td>2000</td>\n",
       "      <td>M</td>\n",
       "      <td>25</td>\n",
       "      <td>7</td>\n",
       "      <td>24210</td>\n",
       "      <td>20-29</td>\n",
       "    </tr>\n",
       "    <tr>\n",
       "      <th>991046</th>\n",
       "      <td>1711</td>\n",
       "      <td>Midnight in the Garden of Good and Evil (1997)</td>\n",
       "      <td>Comedy|Crime|Drama|Mystery</td>\n",
       "      <td>2696</td>\n",
       "      <td>4</td>\n",
       "      <td>2000</td>\n",
       "      <td>M</td>\n",
       "      <td>25</td>\n",
       "      <td>7</td>\n",
       "      <td>24210</td>\n",
       "      <td>20-29</td>\n",
       "    </tr>\n",
       "    <tr>\n",
       "      <th>991047</th>\n",
       "      <td>1783</td>\n",
       "      <td>Palmetto (1998)</td>\n",
       "      <td>Film-Noir|Mystery|Thriller</td>\n",
       "      <td>2696</td>\n",
       "      <td>4</td>\n",
       "      <td>2000</td>\n",
       "      <td>M</td>\n",
       "      <td>25</td>\n",
       "      <td>7</td>\n",
       "      <td>24210</td>\n",
       "      <td>20-29</td>\n",
       "    </tr>\n",
       "    <tr>\n",
       "      <th>991048</th>\n",
       "      <td>1805</td>\n",
       "      <td>Wild Things (1998)</td>\n",
       "      <td>Crime|Drama|Mystery|Thriller</td>\n",
       "      <td>2696</td>\n",
       "      <td>4</td>\n",
       "      <td>2000</td>\n",
       "      <td>M</td>\n",
       "      <td>25</td>\n",
       "      <td>7</td>\n",
       "      <td>24210</td>\n",
       "      <td>20-29</td>\n",
       "    </tr>\n",
       "    <tr>\n",
       "      <th>991049</th>\n",
       "      <td>1892</td>\n",
       "      <td>Perfect Murder, A (1998)</td>\n",
       "      <td>Mystery|Thriller</td>\n",
       "      <td>2696</td>\n",
       "      <td>4</td>\n",
       "      <td>2000</td>\n",
       "      <td>M</td>\n",
       "      <td>25</td>\n",
       "      <td>7</td>\n",
       "      <td>24210</td>\n",
       "      <td>20-29</td>\n",
       "    </tr>\n",
       "    <tr>\n",
       "      <th>991050</th>\n",
       "      <td>2338</td>\n",
       "      <td>I Still Know What You Did Last Summer (1998)</td>\n",
       "      <td>Horror|Mystery|Thriller</td>\n",
       "      <td>2696</td>\n",
       "      <td>2</td>\n",
       "      <td>2000</td>\n",
       "      <td>M</td>\n",
       "      <td>25</td>\n",
       "      <td>7</td>\n",
       "      <td>24210</td>\n",
       "      <td>20-29</td>\n",
       "    </tr>\n",
       "    <tr>\n",
       "      <th>991051</th>\n",
       "      <td>2389</td>\n",
       "      <td>Psycho (1998)</td>\n",
       "      <td>Crime|Horror|Thriller</td>\n",
       "      <td>2696</td>\n",
       "      <td>4</td>\n",
       "      <td>2000</td>\n",
       "      <td>M</td>\n",
       "      <td>25</td>\n",
       "      <td>7</td>\n",
       "      <td>24210</td>\n",
       "      <td>20-29</td>\n",
       "    </tr>\n",
       "    <tr>\n",
       "      <th>991052</th>\n",
       "      <td>2713</td>\n",
       "      <td>Lake Placid (1999)</td>\n",
       "      <td>Horror|Thriller</td>\n",
       "      <td>2696</td>\n",
       "      <td>1</td>\n",
       "      <td>2000</td>\n",
       "      <td>M</td>\n",
       "      <td>25</td>\n",
       "      <td>7</td>\n",
       "      <td>24210</td>\n",
       "      <td>20-29</td>\n",
       "    </tr>\n",
       "    <tr>\n",
       "      <th>991053</th>\n",
       "      <td>3176</td>\n",
       "      <td>Talented Mr. Ripley, The (1999)</td>\n",
       "      <td>Drama|Mystery|Thriller</td>\n",
       "      <td>2696</td>\n",
       "      <td>4</td>\n",
       "      <td>2000</td>\n",
       "      <td>M</td>\n",
       "      <td>25</td>\n",
       "      <td>7</td>\n",
       "      <td>24210</td>\n",
       "      <td>20-29</td>\n",
       "    </tr>\n",
       "    <tr>\n",
       "      <th>991054</th>\n",
       "      <td>3386</td>\n",
       "      <td>JFK (1991)</td>\n",
       "      <td>Drama|Mystery</td>\n",
       "      <td>2696</td>\n",
       "      <td>1</td>\n",
       "      <td>2000</td>\n",
       "      <td>M</td>\n",
       "      <td>25</td>\n",
       "      <td>7</td>\n",
       "      <td>24210</td>\n",
       "      <td>20-29</td>\n",
       "    </tr>\n",
       "  </tbody>\n",
       "</table>\n",
       "</div>"
      ],
      "text/plain": [
       "        movieId                                           title  \\\n",
       "991035      350                              Client, The (1994)   \n",
       "991036      800                                Lone Star (1996)   \n",
       "991037     1092                           Basic Instinct (1992)   \n",
       "991038     1097               E.T. the Extra-Terrestrial (1982)   \n",
       "991039     1258                             Shining, The (1980)   \n",
       "991040     1270                       Back to the Future (1985)   \n",
       "991041     1589                                 Cop Land (1997)   \n",
       "991042     1617                        L.A. Confidential (1997)   \n",
       "991043     1625                                Game, The (1997)   \n",
       "991044     1644          I Know What You Did Last Summer (1997)   \n",
       "991045     1645                    Devil's Advocate, The (1997)   \n",
       "991046     1711  Midnight in the Garden of Good and Evil (1997)   \n",
       "991047     1783                                 Palmetto (1998)   \n",
       "991048     1805                              Wild Things (1998)   \n",
       "991049     1892                        Perfect Murder, A (1998)   \n",
       "991050     2338    I Still Know What You Did Last Summer (1998)   \n",
       "991051     2389                                   Psycho (1998)   \n",
       "991052     2713                              Lake Placid (1999)   \n",
       "991053     3176                 Talented Mr. Ripley, The (1999)   \n",
       "991054     3386                                      JFK (1991)   \n",
       "\n",
       "                                  genres  userId  rating timestamp Gender  \\\n",
       "991035            Drama|Mystery|Thriller    2696       3      2000      M   \n",
       "991036                     Drama|Mystery    2696       5      2000      M   \n",
       "991037                  Mystery|Thriller    2696       4      2000      M   \n",
       "991038   Children's|Drama|Fantasy|Sci-Fi    2696       3      2000      M   \n",
       "991039                            Horror    2696       4      2000      M   \n",
       "991040                     Comedy|Sci-Fi    2696       2      2000      M   \n",
       "991041               Crime|Drama|Mystery    2696       3      2000      M   \n",
       "991042  Crime|Film-Noir|Mystery|Thriller    2696       4      2000      M   \n",
       "991043                  Mystery|Thriller    2696       4      2000      M   \n",
       "991044           Horror|Mystery|Thriller    2696       2      2000      M   \n",
       "991045     Crime|Horror|Mystery|Thriller    2696       4      2000      M   \n",
       "991046        Comedy|Crime|Drama|Mystery    2696       4      2000      M   \n",
       "991047        Film-Noir|Mystery|Thriller    2696       4      2000      M   \n",
       "991048      Crime|Drama|Mystery|Thriller    2696       4      2000      M   \n",
       "991049                  Mystery|Thriller    2696       4      2000      M   \n",
       "991050           Horror|Mystery|Thriller    2696       2      2000      M   \n",
       "991051             Crime|Horror|Thriller    2696       4      2000      M   \n",
       "991052                   Horror|Thriller    2696       1      2000      M   \n",
       "991053            Drama|Mystery|Thriller    2696       4      2000      M   \n",
       "991054                     Drama|Mystery    2696       1      2000      M   \n",
       "\n",
       "        Age  Occupation Zip-code age_group  \n",
       "991035   25           7    24210     20-29  \n",
       "991036   25           7    24210     20-29  \n",
       "991037   25           7    24210     20-29  \n",
       "991038   25           7    24210     20-29  \n",
       "991039   25           7    24210     20-29  \n",
       "991040   25           7    24210     20-29  \n",
       "991041   25           7    24210     20-29  \n",
       "991042   25           7    24210     20-29  \n",
       "991043   25           7    24210     20-29  \n",
       "991044   25           7    24210     20-29  \n",
       "991045   25           7    24210     20-29  \n",
       "991046   25           7    24210     20-29  \n",
       "991047   25           7    24210     20-29  \n",
       "991048   25           7    24210     20-29  \n",
       "991049   25           7    24210     20-29  \n",
       "991050   25           7    24210     20-29  \n",
       "991051   25           7    24210     20-29  \n",
       "991052   25           7    24210     20-29  \n",
       "991053   25           7    24210     20-29  \n",
       "991054   25           7    24210     20-29  "
      ]
     },
     "execution_count": 40,
     "metadata": {},
     "output_type": "execute_result"
    }
   ],
   "source": [
    "df_movie_ratings_users[df_movie_ratings_users['userId'] == 2696]"
   ]
  },
  {
   "cell_type": "markdown",
   "metadata": {},
   "source": [
    "#### Perform machine learning on first 500 extracted records\n",
    "•\tUse the following features:\n",
    "    - movie id\n",
    "    - age\n",
    "    - occupation\n",
    "    Use rating as label\n",
    "\n",
    "- Create train and test data set and perform the following:\n",
    "    - Create a histogram for movie, age, and occupation\n"
   ]
  },
  {
   "cell_type": "code",
   "execution_count": 41,
   "metadata": {
    "collapsed": true
   },
   "outputs": [],
   "source": [
    "# import the ML algorithm\n",
    "from sklearn.neighbors import KNeighborsClassifier\n",
    "from sklearn.linear_model import LinearRegression\n",
    "from sklearn.linear_model import LogisticRegression\n",
    "from sklearn.naive_bayes import GaussianNB\n",
    "from sklearn.naive_bayes import MultinomialNB\n",
    "from sklearn.tree import DecisionTreeClassifier\n",
    "from sklearn.ensemble import RandomForestClassifier\n",
    "\n",
    "# import libraries for model validation\n",
    "from sklearn.model_selection import StratifiedKFold\n",
    "from sklearn.model_selection import KFold\n",
    "from sklearn.model_selection import cross_val_score\n",
    "from sklearn.model_selection import train_test_split\n",
    "from sklearn.model_selection import LeaveOneOut \n",
    "\n",
    "# import libraries for metrics and reporting\n",
    "from sklearn.metrics import confusion_matrix\n",
    "from sklearn.metrics import classification_report\n",
    "from sklearn.metrics import accuracy_score\n",
    "from sklearn.metrics import precision_score\n",
    "from sklearn.metrics import recall_score\n",
    "from sklearn.metrics import f1_score\n",
    "from sklearn import metrics\n",
    "from sklearn.metrics import classification_report\n",
    "from sklearn.metrics import roc_curve, auc\n"
   ]
  },
  {
   "cell_type": "code",
   "execution_count": 104,
   "metadata": {},
   "outputs": [
    {
     "data": {
      "text/plain": [
       "(1000209, 11)"
      ]
     },
     "execution_count": 104,
     "metadata": {},
     "output_type": "execute_result"
    }
   ],
   "source": [
    "df_movie_ratings_users.shape"
   ]
  },
  {
   "cell_type": "code",
   "execution_count": 42,
   "metadata": {
    "collapsed": true
   },
   "outputs": [],
   "source": [
    "feature_cols = ['movieId',\n",
    "                'Age',\n",
    "                'Occupation']\n",
    "\n",
    "response_col = ['rating']\n"
   ]
  },
  {
   "cell_type": "code",
   "execution_count": 43,
   "metadata": {},
   "outputs": [
    {
     "data": {
      "text/plain": [
       "array([5, 4, 3, 2, 1], dtype=int64)"
      ]
     },
     "execution_count": 43,
     "metadata": {},
     "output_type": "execute_result"
    }
   ],
   "source": [
    "# get the unique rating types\n",
    "df_movie_ratings_users.rating.unique()"
   ]
  },
  {
   "cell_type": "code",
   "execution_count": 107,
   "metadata": {},
   "outputs": [
    {
     "data": {
      "text/plain": [
       "4    348971\n",
       "3    261197\n",
       "5    226310\n",
       "2    107557\n",
       "1     56174\n",
       "Name: rating, dtype: int64"
      ]
     },
     "execution_count": 107,
     "metadata": {},
     "output_type": "execute_result"
    }
   ],
   "source": [
    "# class balance\n",
    "df_movie_ratings_users.rating.value_counts()"
   ]
  },
  {
   "cell_type": "code",
   "execution_count": 44,
   "metadata": {
    "collapsed": true
   },
   "outputs": [],
   "source": [
    "# extract 500 random rows from the df\n",
    "df_movie_ratings_users_extract = df_movie_ratings_users.sample(n=500, random_state=0)"
   ]
  },
  {
   "cell_type": "code",
   "execution_count": 45,
   "metadata": {
    "collapsed": true
   },
   "outputs": [],
   "source": [
    "X = df_movie_ratings_users_extract[feature_cols].values\n",
    "y = df_movie_ratings_users_extract[response_col].values.ravel()"
   ]
  },
  {
   "cell_type": "code",
   "execution_count": 46,
   "metadata": {
    "collapsed": true
   },
   "outputs": [],
   "source": [
    "# Split into train and test sets.\n",
    "# X_train, X_test, y_train, y_test = train_test_split(X, y, test_size = 0.20, random_state =0)"
   ]
  },
  {
   "cell_type": "code",
   "execution_count": 47,
   "metadata": {
    "collapsed": true
   },
   "outputs": [],
   "source": [
    "# Create objects of required models.\n",
    "models = []\n",
    "models.append((\"KNN\", \t\t\t\tKNeighborsClassifier()))\n",
    "models.append((\"GNB\", \t\t\t\tGaussianNB()))\n",
    "models.append((\"LR\", \t\t\t\tLogisticRegression()))\n",
    "models.append((\"DecisionTree\", \t\tDecisionTreeClassifier()))\n",
    "models.append((\"Random Forest\",  \tRandomForestClassifier()))\n"
   ]
  },
  {
   "cell_type": "code",
   "execution_count": 48,
   "metadata": {},
   "outputs": [
    {
     "name": "stderr",
     "output_type": "stream",
     "text": [
      "C:\\Anaconda3\\lib\\site-packages\\sklearn\\linear_model\\logistic.py:433: FutureWarning: Default solver will be changed to 'lbfgs' in 0.22. Specify a solver to silence this warning.\n",
      "  FutureWarning)\n",
      "C:\\Anaconda3\\lib\\site-packages\\sklearn\\linear_model\\logistic.py:460: FutureWarning: Default multi_class will be changed to 'auto' in 0.22. Specify the multi_class option to silence this warning.\n",
      "  \"this warning.\", FutureWarning)\n",
      "C:\\Anaconda3\\lib\\site-packages\\sklearn\\linear_model\\logistic.py:433: FutureWarning: Default solver will be changed to 'lbfgs' in 0.22. Specify a solver to silence this warning.\n",
      "  FutureWarning)\n",
      "C:\\Anaconda3\\lib\\site-packages\\sklearn\\linear_model\\logistic.py:460: FutureWarning: Default multi_class will be changed to 'auto' in 0.22. Specify the multi_class option to silence this warning.\n",
      "  \"this warning.\", FutureWarning)\n",
      "C:\\Anaconda3\\lib\\site-packages\\sklearn\\linear_model\\logistic.py:433: FutureWarning: Default solver will be changed to 'lbfgs' in 0.22. Specify a solver to silence this warning.\n",
      "  FutureWarning)\n",
      "C:\\Anaconda3\\lib\\site-packages\\sklearn\\linear_model\\logistic.py:460: FutureWarning: Default multi_class will be changed to 'auto' in 0.22. Specify the multi_class option to silence this warning.\n",
      "  \"this warning.\", FutureWarning)\n",
      "C:\\Anaconda3\\lib\\site-packages\\sklearn\\linear_model\\logistic.py:433: FutureWarning: Default solver will be changed to 'lbfgs' in 0.22. Specify a solver to silence this warning.\n",
      "  FutureWarning)\n",
      "C:\\Anaconda3\\lib\\site-packages\\sklearn\\linear_model\\logistic.py:460: FutureWarning: Default multi_class will be changed to 'auto' in 0.22. Specify the multi_class option to silence this warning.\n",
      "  \"this warning.\", FutureWarning)\n",
      "C:\\Anaconda3\\lib\\site-packages\\sklearn\\linear_model\\logistic.py:433: FutureWarning: Default solver will be changed to 'lbfgs' in 0.22. Specify a solver to silence this warning.\n",
      "  FutureWarning)\n",
      "C:\\Anaconda3\\lib\\site-packages\\sklearn\\linear_model\\logistic.py:460: FutureWarning: Default multi_class will be changed to 'auto' in 0.22. Specify the multi_class option to silence this warning.\n",
      "  \"this warning.\", FutureWarning)\n",
      "C:\\Anaconda3\\lib\\site-packages\\sklearn\\ensemble\\forest.py:246: FutureWarning: The default value of n_estimators will change from 10 in version 0.20 to 100 in 0.22.\n",
      "  \"10 in version 0.20 to 100 in 0.22.\", FutureWarning)\n",
      "C:\\Anaconda3\\lib\\site-packages\\sklearn\\ensemble\\forest.py:246: FutureWarning: The default value of n_estimators will change from 10 in version 0.20 to 100 in 0.22.\n",
      "  \"10 in version 0.20 to 100 in 0.22.\", FutureWarning)\n",
      "C:\\Anaconda3\\lib\\site-packages\\sklearn\\ensemble\\forest.py:246: FutureWarning: The default value of n_estimators will change from 10 in version 0.20 to 100 in 0.22.\n",
      "  \"10 in version 0.20 to 100 in 0.22.\", FutureWarning)\n",
      "C:\\Anaconda3\\lib\\site-packages\\sklearn\\ensemble\\forest.py:246: FutureWarning: The default value of n_estimators will change from 10 in version 0.20 to 100 in 0.22.\n",
      "  \"10 in version 0.20 to 100 in 0.22.\", FutureWarning)\n",
      "C:\\Anaconda3\\lib\\site-packages\\sklearn\\ensemble\\forest.py:246: FutureWarning: The default value of n_estimators will change from 10 in version 0.20 to 100 in 0.22.\n",
      "  \"10 in version 0.20 to 100 in 0.22.\", FutureWarning)\n"
     ]
    }
   ],
   "source": [
    "# Find accuracy of models.\n",
    "results = []\n",
    "for name, model in models:\n",
    "    kfold = KFold(n_splits=5, random_state=0)\n",
    "    \n",
    "    cv_result = cross_val_score(model, X, y, cv = kfold, scoring = \"accuracy\")\n",
    "    \n",
    "    results.append(tuple([name, cv_result.mean(), cv_result.std()]))"
   ]
  },
  {
   "cell_type": "code",
   "execution_count": 49,
   "metadata": {},
   "outputs": [
    {
     "name": "stdout",
     "output_type": "stream",
     "text": [
      "GNB                  35.80 (+/-) 6.37 \n",
      "LR                   34.60 (+/-) 5.24 \n",
      "DecisionTree         32.20 (+/-) 4.12 \n",
      "KNN                  30.20 (+/-) 0.98 \n",
      "Random Forest        26.60 (+/-) 2.58 \n"
     ]
    }
   ],
   "source": [
    "results.sort(key=lambda x: x[1], reverse = True)   \n",
    " \n",
    "for i in range(len(results)):\n",
    "    print('{:20s} {:2.2f} (+/-) {:2.2f} '.format(results[i][0] , results[i][1] * 100, results[i][2] * 100))"
   ]
  },
  {
   "cell_type": "markdown",
   "metadata": {},
   "source": [
    "# Try only random forest"
   ]
  },
  {
   "cell_type": "code",
   "execution_count": 113,
   "metadata": {
    "scrolled": true
   },
   "outputs": [
    {
     "data": {
      "text/plain": [
       "movieId          int64\n",
       "title           object\n",
       "genres          object\n",
       "userId           int64\n",
       "rating           int64\n",
       "timestamp       object\n",
       "Gender          object\n",
       "Age              int64\n",
       "Occupation       int64\n",
       "Zip-code        object\n",
       "age_group     category\n",
       "dtype: object"
      ]
     },
     "execution_count": 113,
     "metadata": {},
     "output_type": "execute_result"
    }
   ],
   "source": [
    "df_movie_ratings_users.dtypes"
   ]
  },
  {
   "cell_type": "code",
   "execution_count": 114,
   "metadata": {},
   "outputs": [
    {
     "data": {
      "text/plain": [
       "(1000209, 5)"
      ]
     },
     "execution_count": 114,
     "metadata": {},
     "output_type": "execute_result"
    }
   ],
   "source": [
    "feature_cols = ['genres',\n",
    "                'rating',\n",
    "                'Gender',\n",
    "                'Age',\n",
    "                'Occupation']\n",
    "\n",
    "df_movie_ratings_users_extract = df_movie_ratings_users[feature_cols].copy(deep=True)\n",
    "df_movie_ratings_users_extract.shape"
   ]
  },
  {
   "cell_type": "code",
   "execution_count": 115,
   "metadata": {},
   "outputs": [
    {
     "data": {
      "text/plain": [
       "genres        object\n",
       "rating         int64\n",
       "Gender        object\n",
       "Age            int64\n",
       "Occupation     int64\n",
       "dtype: object"
      ]
     },
     "execution_count": 115,
     "metadata": {},
     "output_type": "execute_result"
    }
   ],
   "source": [
    "df_movie_ratings_users_extract.dtypes"
   ]
  },
  {
   "cell_type": "code",
   "execution_count": 116,
   "metadata": {
    "collapsed": true
   },
   "outputs": [],
   "source": [
    "def explode(df, lst_cols, fill_value=''):\n",
    "    \n",
    "    # make sure `lst_cols` is a list\n",
    "    if lst_cols and not isinstance(lst_cols, list):\n",
    "        lst_cols = [lst_cols]\n",
    "        \n",
    "    # all columns except `lst_cols`\n",
    "    idx_cols = df.columns.difference(lst_cols)\n",
    "\n",
    "    # calculate lengths of lists\n",
    "    lens = df[lst_cols[0]].str.len()\n",
    "\n",
    "    if (lens > 0).all():\n",
    "        # ALL lists in cells aren't empty\n",
    "        return pd.DataFrame({\n",
    "            col:np.repeat(df[col].values, lens)\n",
    "            for col in idx_cols\n",
    "        }).assign(**{col:np.concatenate(df[col].values) for col in lst_cols}) \\\n",
    "          .loc[:, df.columns]\n",
    "    else:\n",
    "        # at least one list in cells is empty\n",
    "        return pd.DataFrame({\n",
    "            col:np.repeat(df[col].values, lens)\n",
    "            for col in idx_cols\n",
    "        }).assign(**{col:np.concatenate(df[col].values) for col in lst_cols}) \\\n",
    "          .append(df.loc[lens==0, idx_cols]).fillna(fill_value) \\\n",
    "          .loc[:, df.columns]"
   ]
  },
  {
   "cell_type": "code",
   "execution_count": 117,
   "metadata": {
    "collapsed": true
   },
   "outputs": [],
   "source": [
    "df_movie_ratings_users_extract.genres = df_movie_ratings_users_extract.genres.str.split('|')\n",
    "df_movie_ratings_users_extract = explode(df_movie_ratings_users_extract, ['genres'])"
   ]
  },
  {
   "cell_type": "code",
   "execution_count": 118,
   "metadata": {},
   "outputs": [
    {
     "data": {
      "text/html": [
       "<div>\n",
       "<style>\n",
       "    .dataframe thead tr:only-child th {\n",
       "        text-align: right;\n",
       "    }\n",
       "\n",
       "    .dataframe thead th {\n",
       "        text-align: left;\n",
       "    }\n",
       "\n",
       "    .dataframe tbody tr th {\n",
       "        vertical-align: top;\n",
       "    }\n",
       "</style>\n",
       "<table border=\"1\" class=\"dataframe\">\n",
       "  <thead>\n",
       "    <tr style=\"text-align: right;\">\n",
       "      <th></th>\n",
       "      <th>genres</th>\n",
       "      <th>rating</th>\n",
       "      <th>Gender</th>\n",
       "      <th>Age</th>\n",
       "      <th>Occupation</th>\n",
       "    </tr>\n",
       "  </thead>\n",
       "  <tbody>\n",
       "    <tr>\n",
       "      <th>0</th>\n",
       "      <td>Animation</td>\n",
       "      <td>5</td>\n",
       "      <td>F</td>\n",
       "      <td>1</td>\n",
       "      <td>10</td>\n",
       "    </tr>\n",
       "    <tr>\n",
       "      <th>1</th>\n",
       "      <td>Children's</td>\n",
       "      <td>5</td>\n",
       "      <td>F</td>\n",
       "      <td>1</td>\n",
       "      <td>10</td>\n",
       "    </tr>\n",
       "    <tr>\n",
       "      <th>2</th>\n",
       "      <td>Comedy</td>\n",
       "      <td>5</td>\n",
       "      <td>F</td>\n",
       "      <td>1</td>\n",
       "      <td>10</td>\n",
       "    </tr>\n",
       "    <tr>\n",
       "      <th>3</th>\n",
       "      <td>Animation</td>\n",
       "      <td>5</td>\n",
       "      <td>F</td>\n",
       "      <td>1</td>\n",
       "      <td>10</td>\n",
       "    </tr>\n",
       "    <tr>\n",
       "      <th>4</th>\n",
       "      <td>Children's</td>\n",
       "      <td>5</td>\n",
       "      <td>F</td>\n",
       "      <td>1</td>\n",
       "      <td>10</td>\n",
       "    </tr>\n",
       "  </tbody>\n",
       "</table>\n",
       "</div>"
      ],
      "text/plain": [
       "       genres  rating Gender  Age  Occupation\n",
       "0   Animation       5      F    1          10\n",
       "1  Children's       5      F    1          10\n",
       "2      Comedy       5      F    1          10\n",
       "3   Animation       5      F    1          10\n",
       "4  Children's       5      F    1          10"
      ]
     },
     "execution_count": 118,
     "metadata": {},
     "output_type": "execute_result"
    }
   ],
   "source": [
    "df_movie_ratings_users_extract.head()"
   ]
  },
  {
   "cell_type": "code",
   "execution_count": 120,
   "metadata": {},
   "outputs": [
    {
     "data": {
      "text/plain": [
       "genres        object\n",
       "rating         int64\n",
       "Gender        object\n",
       "Age            int64\n",
       "Occupation     int64\n",
       "dtype: object"
      ]
     },
     "execution_count": 120,
     "metadata": {},
     "output_type": "execute_result"
    }
   ],
   "source": [
    "df_movie_ratings_users_extract.dtypes"
   ]
  },
  {
   "cell_type": "code",
   "execution_count": 121,
   "metadata": {},
   "outputs": [
    {
     "data": {
      "text/plain": [
       "array(['Animation', \"Children's\", 'Comedy', 'Musical', 'Romance', 'Drama',\n",
       "       'Action', 'Adventure', 'Fantasy', 'Sci-Fi', 'War', 'Crime',\n",
       "       'Thriller', 'Western', 'Horror', 'Mystery', 'Documentary',\n",
       "       'Film-Noir'], dtype=object)"
      ]
     },
     "execution_count": 121,
     "metadata": {},
     "output_type": "execute_result"
    }
   ],
   "source": [
    "df_movie_ratings_users_extract.genres.unique()"
   ]
  },
  {
   "cell_type": "code",
   "execution_count": 122,
   "metadata": {},
   "outputs": [
    {
     "data": {
      "text/plain": [
       "(2101815, 5)"
      ]
     },
     "execution_count": 122,
     "metadata": {},
     "output_type": "execute_result"
    }
   ],
   "source": [
    "df_movie_ratings_users_extract.shape"
   ]
  },
  {
   "cell_type": "code",
   "execution_count": 123,
   "metadata": {
    "collapsed": true
   },
   "outputs": [],
   "source": [
    "# # convert the object datatypes to numeric - one hot encoding\n",
    "df_movie_ratings_users_extract = pd.get_dummies(df_movie_ratings_users_extract, columns=[\"genres\", \"Gender\"])"
   ]
  },
  {
   "cell_type": "code",
   "execution_count": 124,
   "metadata": {},
   "outputs": [
    {
     "data": {
      "text/plain": [
       "(2101815, 23)"
      ]
     },
     "execution_count": 124,
     "metadata": {},
     "output_type": "execute_result"
    }
   ],
   "source": [
    "df_movie_ratings_users_extract.shape"
   ]
  },
  {
   "cell_type": "code",
   "execution_count": 40,
   "metadata": {
    "collapsed": true
   },
   "outputs": [],
   "source": [
    "# convert the object datatypes to numeric - cat codes\n",
    "# df_movie_ratings_users_extract[\"genres\"] = df_movie_ratings_users_extract[\"genres\"].astype('category')\n",
    "# df_movie_ratings_users_extract[\"Gender\"] = df_movie_ratings_users_extract[\"Gender\"].astype('category')\n",
    "\n",
    "# df_movie_ratings_users_extract[\"genres_cat\"] = df_movie_ratings_users_extract[\"genres\"].cat.codes\n",
    "# df_movie_ratings_users_extract[\"Gender_cat\"] = df_movie_ratings_users_extract[\"Gender\"].cat.codes"
   ]
  },
  {
   "cell_type": "code",
   "execution_count": 125,
   "metadata": {},
   "outputs": [
    {
     "data": {
      "text/html": [
       "<div>\n",
       "<style>\n",
       "    .dataframe thead tr:only-child th {\n",
       "        text-align: right;\n",
       "    }\n",
       "\n",
       "    .dataframe thead th {\n",
       "        text-align: left;\n",
       "    }\n",
       "\n",
       "    .dataframe tbody tr th {\n",
       "        vertical-align: top;\n",
       "    }\n",
       "</style>\n",
       "<table border=\"1\" class=\"dataframe\">\n",
       "  <thead>\n",
       "    <tr style=\"text-align: right;\">\n",
       "      <th></th>\n",
       "      <th>rating</th>\n",
       "      <th>Age</th>\n",
       "      <th>Occupation</th>\n",
       "      <th>genres_Action</th>\n",
       "      <th>genres_Adventure</th>\n",
       "      <th>genres_Animation</th>\n",
       "      <th>genres_Children's</th>\n",
       "      <th>genres_Comedy</th>\n",
       "      <th>genres_Crime</th>\n",
       "      <th>genres_Documentary</th>\n",
       "      <th>...</th>\n",
       "      <th>genres_Horror</th>\n",
       "      <th>genres_Musical</th>\n",
       "      <th>genres_Mystery</th>\n",
       "      <th>genres_Romance</th>\n",
       "      <th>genres_Sci-Fi</th>\n",
       "      <th>genres_Thriller</th>\n",
       "      <th>genres_War</th>\n",
       "      <th>genres_Western</th>\n",
       "      <th>Gender_F</th>\n",
       "      <th>Gender_M</th>\n",
       "    </tr>\n",
       "  </thead>\n",
       "  <tbody>\n",
       "    <tr>\n",
       "      <th>0</th>\n",
       "      <td>5</td>\n",
       "      <td>1</td>\n",
       "      <td>10</td>\n",
       "      <td>0</td>\n",
       "      <td>0</td>\n",
       "      <td>1</td>\n",
       "      <td>0</td>\n",
       "      <td>0</td>\n",
       "      <td>0</td>\n",
       "      <td>0</td>\n",
       "      <td>...</td>\n",
       "      <td>0</td>\n",
       "      <td>0</td>\n",
       "      <td>0</td>\n",
       "      <td>0</td>\n",
       "      <td>0</td>\n",
       "      <td>0</td>\n",
       "      <td>0</td>\n",
       "      <td>0</td>\n",
       "      <td>1</td>\n",
       "      <td>0</td>\n",
       "    </tr>\n",
       "    <tr>\n",
       "      <th>1</th>\n",
       "      <td>5</td>\n",
       "      <td>1</td>\n",
       "      <td>10</td>\n",
       "      <td>0</td>\n",
       "      <td>0</td>\n",
       "      <td>0</td>\n",
       "      <td>1</td>\n",
       "      <td>0</td>\n",
       "      <td>0</td>\n",
       "      <td>0</td>\n",
       "      <td>...</td>\n",
       "      <td>0</td>\n",
       "      <td>0</td>\n",
       "      <td>0</td>\n",
       "      <td>0</td>\n",
       "      <td>0</td>\n",
       "      <td>0</td>\n",
       "      <td>0</td>\n",
       "      <td>0</td>\n",
       "      <td>1</td>\n",
       "      <td>0</td>\n",
       "    </tr>\n",
       "    <tr>\n",
       "      <th>2</th>\n",
       "      <td>5</td>\n",
       "      <td>1</td>\n",
       "      <td>10</td>\n",
       "      <td>0</td>\n",
       "      <td>0</td>\n",
       "      <td>0</td>\n",
       "      <td>0</td>\n",
       "      <td>1</td>\n",
       "      <td>0</td>\n",
       "      <td>0</td>\n",
       "      <td>...</td>\n",
       "      <td>0</td>\n",
       "      <td>0</td>\n",
       "      <td>0</td>\n",
       "      <td>0</td>\n",
       "      <td>0</td>\n",
       "      <td>0</td>\n",
       "      <td>0</td>\n",
       "      <td>0</td>\n",
       "      <td>1</td>\n",
       "      <td>0</td>\n",
       "    </tr>\n",
       "    <tr>\n",
       "      <th>3</th>\n",
       "      <td>5</td>\n",
       "      <td>1</td>\n",
       "      <td>10</td>\n",
       "      <td>0</td>\n",
       "      <td>0</td>\n",
       "      <td>1</td>\n",
       "      <td>0</td>\n",
       "      <td>0</td>\n",
       "      <td>0</td>\n",
       "      <td>0</td>\n",
       "      <td>...</td>\n",
       "      <td>0</td>\n",
       "      <td>0</td>\n",
       "      <td>0</td>\n",
       "      <td>0</td>\n",
       "      <td>0</td>\n",
       "      <td>0</td>\n",
       "      <td>0</td>\n",
       "      <td>0</td>\n",
       "      <td>1</td>\n",
       "      <td>0</td>\n",
       "    </tr>\n",
       "    <tr>\n",
       "      <th>4</th>\n",
       "      <td>5</td>\n",
       "      <td>1</td>\n",
       "      <td>10</td>\n",
       "      <td>0</td>\n",
       "      <td>0</td>\n",
       "      <td>0</td>\n",
       "      <td>1</td>\n",
       "      <td>0</td>\n",
       "      <td>0</td>\n",
       "      <td>0</td>\n",
       "      <td>...</td>\n",
       "      <td>0</td>\n",
       "      <td>0</td>\n",
       "      <td>0</td>\n",
       "      <td>0</td>\n",
       "      <td>0</td>\n",
       "      <td>0</td>\n",
       "      <td>0</td>\n",
       "      <td>0</td>\n",
       "      <td>1</td>\n",
       "      <td>0</td>\n",
       "    </tr>\n",
       "  </tbody>\n",
       "</table>\n",
       "<p>5 rows × 23 columns</p>\n",
       "</div>"
      ],
      "text/plain": [
       "   rating  Age  Occupation  genres_Action  genres_Adventure  genres_Animation  \\\n",
       "0       5    1          10              0                 0                 1   \n",
       "1       5    1          10              0                 0                 0   \n",
       "2       5    1          10              0                 0                 0   \n",
       "3       5    1          10              0                 0                 1   \n",
       "4       5    1          10              0                 0                 0   \n",
       "\n",
       "   genres_Children's  genres_Comedy  genres_Crime  genres_Documentary  \\\n",
       "0                  0              0             0                   0   \n",
       "1                  1              0             0                   0   \n",
       "2                  0              1             0                   0   \n",
       "3                  0              0             0                   0   \n",
       "4                  1              0             0                   0   \n",
       "\n",
       "     ...     genres_Horror  genres_Musical  genres_Mystery  genres_Romance  \\\n",
       "0    ...                 0               0               0               0   \n",
       "1    ...                 0               0               0               0   \n",
       "2    ...                 0               0               0               0   \n",
       "3    ...                 0               0               0               0   \n",
       "4    ...                 0               0               0               0   \n",
       "\n",
       "   genres_Sci-Fi  genres_Thriller  genres_War  genres_Western  Gender_F  \\\n",
       "0              0                0           0               0         1   \n",
       "1              0                0           0               0         1   \n",
       "2              0                0           0               0         1   \n",
       "3              0                0           0               0         1   \n",
       "4              0                0           0               0         1   \n",
       "\n",
       "   Gender_M  \n",
       "0         0  \n",
       "1         0  \n",
       "2         0  \n",
       "3         0  \n",
       "4         0  \n",
       "\n",
       "[5 rows x 23 columns]"
      ]
     },
     "execution_count": 125,
     "metadata": {},
     "output_type": "execute_result"
    }
   ],
   "source": [
    "df_movie_ratings_users_extract.head()"
   ]
  },
  {
   "cell_type": "code",
   "execution_count": 126,
   "metadata": {
    "collapsed": true
   },
   "outputs": [],
   "source": [
    "# extract 500 random rows from the df\n",
    "df_movie_ratings_users_extract = df_movie_ratings_users_extract.sample(n=500, random_state=0)"
   ]
  },
  {
   "cell_type": "code",
   "execution_count": 127,
   "metadata": {
    "collapsed": true
   },
   "outputs": [],
   "source": [
    "response_col = ['rating']"
   ]
  },
  {
   "cell_type": "code",
   "execution_count": 128,
   "metadata": {
    "collapsed": true
   },
   "outputs": [],
   "source": [
    "X = df_movie_ratings_users_extract.drop('rating', axis=1).values\n",
    "y = df_movie_ratings_users_extract[response_col].values.ravel()"
   ]
  },
  {
   "cell_type": "code",
   "execution_count": 129,
   "metadata": {
    "collapsed": true
   },
   "outputs": [],
   "source": [
    "# Split into train and test sets.\n",
    "X_train, X_test, y_train, y_test = train_test_split(X, y, test_size = 0.20, random_state =0)"
   ]
  },
  {
   "cell_type": "code",
   "execution_count": 130,
   "metadata": {},
   "outputs": [
    {
     "name": "stdout",
     "output_type": "stream",
     "text": [
      "(400, 22)\n",
      "(400,)\n",
      "(100, 22)\n",
      "(100,)\n"
     ]
    }
   ],
   "source": [
    "print(X_train.shape)\n",
    "print(y_train.shape)\n",
    "print(X_test.shape)\n",
    "print(y_test.shape)"
   ]
  },
  {
   "cell_type": "code",
   "execution_count": 131,
   "metadata": {
    "collapsed": true
   },
   "outputs": [],
   "source": [
    "# instantiate the RF classifier\n",
    "clf = RandomForestClassifier(n_estimators=100)\n"
   ]
  },
  {
   "cell_type": "code",
   "execution_count": 132,
   "metadata": {},
   "outputs": [
    {
     "data": {
      "text/plain": [
       "RandomForestClassifier(bootstrap=True, class_weight=None, criterion='gini',\n",
       "            max_depth=None, max_features='auto', max_leaf_nodes=None,\n",
       "            min_impurity_decrease=0.0, min_impurity_split=None,\n",
       "            min_samples_leaf=1, min_samples_split=2,\n",
       "            min_weight_fraction_leaf=0.0, n_estimators=100, n_jobs=1,\n",
       "            oob_score=False, random_state=None, verbose=0,\n",
       "            warm_start=False)"
      ]
     },
     "execution_count": 132,
     "metadata": {},
     "output_type": "execute_result"
    }
   ],
   "source": [
    "# train the classifier\n",
    "clf.fit(X_train, y_train)"
   ]
  },
  {
   "cell_type": "code",
   "execution_count": 133,
   "metadata": {
    "collapsed": true
   },
   "outputs": [],
   "source": [
    "y_pred = clf.predict(X_test)"
   ]
  },
  {
   "cell_type": "code",
   "execution_count": 134,
   "metadata": {
    "collapsed": true
   },
   "outputs": [],
   "source": [
    "# Creates a confusion matrix\n",
    "cm = confusion_matrix(y_test, y_pred) "
   ]
  },
  {
   "cell_type": "code",
   "execution_count": 135,
   "metadata": {},
   "outputs": [
    {
     "data": {
      "text/plain": [
       "Text(0.5,11,'Predicted label')"
      ]
     },
     "execution_count": 135,
     "metadata": {},
     "output_type": "execute_result"
    },
    {
     "data": {
      "image/png": "[encoded data removed]",
      "text/plain": [
       "<matplotlib.figure.Figure at 0x20eb41cdc50>"
      ]
     },
     "metadata": {},
     "output_type": "display_data"
    }
   ],
   "source": [
    "plt.figure(figsize=(6,4))\n",
    "sns.heatmap(cm, annot=True)\n",
    "plt.title('RF classification model \\nAccuracy:{0:.3f}'.format(accuracy_score(y_test, y_pred)))\n",
    "plt.ylabel('True label')\n",
    "plt.xlabel('Predicted label')"
   ]
  },
  {
   "cell_type": "code",
   "execution_count": 136,
   "metadata": {},
   "outputs": [
    {
     "name": "stdout",
     "output_type": "stream",
     "text": [
      "0.27\n",
      "0.73\n"
     ]
    }
   ],
   "source": [
    "# metrics from confusion matrix\n",
    "# Classification accuracy : Overall how often is the classifier correct?\n",
    "print(metrics.accuracy_score(y_test, y_pred))\n",
    "\n",
    "# classification error : Overall how often is the classifier incorrect?\n",
    "print(1-metrics.accuracy_score(y_test, y_pred))\n",
    "\n",
    "# Sensitivity : when the actual value is +ve, how often is the predication correct\n",
    "# Also known as \"True Positive Rate\" or 'Recall\"\n",
    "# should be MAXIMIZED\n",
    "# print(metrics.recall_score(y_test, y_pred))\n",
    "\n",
    "# # Specificity: When the actual value is -ve, how often the prediction correct\n",
    "# # Also known as \"Selective\"\n",
    "# # should be MAXIMIZED\n",
    "\n",
    "# # False Positive Rate : when the actual value is negative, how often is the \n",
    "# # prediction incorrect\n",
    "# # 1- Specificity\n",
    "\n",
    "# # Precision: when a +ve value is predicted, how often is the prediction correct?\n",
    "# print(metrics.precision_score(y_test, y_pred))"
   ]
  },
  {
   "cell_type": "code",
   "execution_count": 137,
   "metadata": {},
   "outputs": [
    {
     "data": {
      "text/plain": [
       "[0.2316852412908685,\n",
       " 0.4268442686992217,\n",
       " 0.026579573168024978,\n",
       " 0.01881549917730752,\n",
       " 0.012400369942867912,\n",
       " 0.01163123413982994,\n",
       " 0.028128845639578914,\n",
       " 0.012820286105530689,\n",
       " 0.0,\n",
       " 0.02589843153730863,\n",
       " 0.007956329480080458,\n",
       " 0.007652318257510782,\n",
       " 0.016177070568483446,\n",
       " 0.012976671813515217,\n",
       " 0.01110718929771572,\n",
       " 0.020763534274002127,\n",
       " 0.019120859603971807,\n",
       " 0.022884876022382147,\n",
       " 0.015153779446199273,\n",
       " 0.007857774950752374,\n",
       " 0.03159043431283101,\n",
       " 0.03195541227201695]"
      ]
     },
     "execution_count": 137,
     "metadata": {},
     "output_type": "execute_result"
    }
   ],
   "source": [
    "# Get numerical feature importances\n",
    "importances = list(clf.feature_importances_)\n",
    "importances"
   ]
  },
  {
   "cell_type": "code",
   "execution_count": 138,
   "metadata": {},
   "outputs": [
    {
     "data": {
      "text/plain": [
       "Index(['Age', 'Occupation', 'genres_Action', 'genres_Adventure',\n",
       "       'genres_Animation', 'genres_Children's', 'genres_Comedy',\n",
       "       'genres_Crime', 'genres_Documentary', 'genres_Drama', 'genres_Fantasy',\n",
       "       'genres_Film-Noir', 'genres_Horror', 'genres_Musical', 'genres_Mystery',\n",
       "       'genres_Romance', 'genres_Sci-Fi', 'genres_Thriller', 'genres_War',\n",
       "       'genres_Western', 'Gender_F', 'Gender_M'],\n",
       "      dtype='object')"
      ]
     },
     "execution_count": 138,
     "metadata": {},
     "output_type": "execute_result"
    }
   ],
   "source": [
    "feature_list = df_movie_ratings_users_extract.drop('rating', axis=1).columns\n",
    "feature_list"
   ]
  },
  {
   "cell_type": "code",
   "execution_count": 140,
   "metadata": {},
   "outputs": [
    {
     "data": {
      "text/plain": [
       "[('Age', 0.23),\n",
       " ('Occupation', 0.43),\n",
       " ('genres_Action', 0.03),\n",
       " ('genres_Adventure', 0.02),\n",
       " ('genres_Animation', 0.01),\n",
       " (\"genres_Children's\", 0.01),\n",
       " ('genres_Comedy', 0.03),\n",
       " ('genres_Crime', 0.01),\n",
       " ('genres_Documentary', 0.0),\n",
       " ('genres_Drama', 0.03),\n",
       " ('genres_Fantasy', 0.01),\n",
       " ('genres_Film-Noir', 0.01),\n",
       " ('genres_Horror', 0.02),\n",
       " ('genres_Musical', 0.01),\n",
       " ('genres_Mystery', 0.01),\n",
       " ('genres_Romance', 0.02),\n",
       " ('genres_Sci-Fi', 0.02),\n",
       " ('genres_Thriller', 0.02),\n",
       " ('genres_War', 0.02),\n",
       " ('genres_Western', 0.01),\n",
       " ('Gender_F', 0.03),\n",
       " ('Gender_M', 0.03)]"
      ]
     },
     "execution_count": 140,
     "metadata": {},
     "output_type": "execute_result"
    }
   ],
   "source": [
    "feature_importances = [(feature, round(importance, 2)) for feature, importance in zip(feature_list, importances)]\n",
    "feature_importances"
   ]
  },
  {
   "cell_type": "code",
   "execution_count": 141,
   "metadata": {},
   "outputs": [
    {
     "data": {
      "text/plain": [
       "[('Occupation', 0.43),\n",
       " ('Age', 0.23),\n",
       " ('genres_Action', 0.03),\n",
       " ('genres_Comedy', 0.03),\n",
       " ('genres_Drama', 0.03),\n",
       " ('Gender_F', 0.03),\n",
       " ('Gender_M', 0.03),\n",
       " ('genres_Adventure', 0.02),\n",
       " ('genres_Horror', 0.02),\n",
       " ('genres_Romance', 0.02),\n",
       " ('genres_Sci-Fi', 0.02),\n",
       " ('genres_Thriller', 0.02),\n",
       " ('genres_War', 0.02),\n",
       " ('genres_Animation', 0.01),\n",
       " (\"genres_Children's\", 0.01),\n",
       " ('genres_Crime', 0.01),\n",
       " ('genres_Fantasy', 0.01),\n",
       " ('genres_Film-Noir', 0.01),\n",
       " ('genres_Musical', 0.01),\n",
       " ('genres_Mystery', 0.01),\n",
       " ('genres_Western', 0.01),\n",
       " ('genres_Documentary', 0.0)]"
      ]
     },
     "execution_count": 141,
     "metadata": {},
     "output_type": "execute_result"
    }
   ],
   "source": [
    "# Sort the feature importances by most important first\n",
    "feature_importances = sorted(feature_importances, key = lambda x: x[1], reverse = True)\n",
    "feature_importances"
   ]
  },
  {
   "cell_type": "code",
   "execution_count": null,
   "metadata": {
    "collapsed": true
   },
   "outputs": [],
   "source": []
  }
 ],
 "metadata": {
  "kernelspec": {
   "display_name": "Python 3",
   "language": "python",
   "name": "python3"
  },
  "language_info": {
   "codemirror_mode": {
    "name": "ipython",
    "version": 3
   },
   "file_extension": ".py",
   "mimetype": "text/x-python",
   "name": "python",
   "nbconvert_exporter": "python",
   "pygments_lexer": "ipython3",
   "version": "3.7.1"
  }
 },
 "nbformat": 4,
 "nbformat_minor": 2
}
